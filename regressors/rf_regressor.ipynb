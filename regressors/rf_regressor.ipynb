{
 "cells": [
  {
   "cell_type": "markdown",
   "metadata": {
    "id": "TFAhsYJrBf0Y"
   },
   "source": [
    "# I. Load required libraries"
   ]
  },
  {
   "cell_type": "code",
   "execution_count": 8,
   "metadata": {
    "colab": {
     "base_uri": "https://localhost:8080/",
     "height": 272
    },
    "id": "IiExBULvDb01",
    "outputId": "21e53e50-929d-4860-fa64-e1dee3067fe8",
    "scrolled": true
   },
   "outputs": [
    {
     "data": {
      "text/html": [
       "<div>\n",
       "<style scoped>\n",
       "    .dataframe tbody tr th:only-of-type {\n",
       "        vertical-align: middle;\n",
       "    }\n",
       "\n",
       "    .dataframe tbody tr th {\n",
       "        vertical-align: top;\n",
       "    }\n",
       "\n",
       "    .dataframe thead th {\n",
       "        text-align: right;\n",
       "    }\n",
       "</style>\n",
       "<table border=\"1\" class=\"dataframe\">\n",
       "  <thead>\n",
       "    <tr style=\"text-align: right;\">\n",
       "      <th></th>\n",
       "      <th>Time</th>\n",
       "      <th>Bus 1_Vm</th>\n",
       "      <th>Bus 2_Vm</th>\n",
       "      <th>Bus 3_Vm</th>\n",
       "      <th>Bus 4_Vm</th>\n",
       "      <th>Bus 5_Vm</th>\n",
       "      <th>Bus 6_Vm</th>\n",
       "      <th>Bus 7_Vm</th>\n",
       "      <th>Bus 8_Vm</th>\n",
       "      <th>Bus 9_Vm</th>\n",
       "      <th>...</th>\n",
       "      <th>Bus 4_PA</th>\n",
       "      <th>Bus 5_PA</th>\n",
       "      <th>Bus 6_PA</th>\n",
       "      <th>Bus 7_PA</th>\n",
       "      <th>Bus 8_PA</th>\n",
       "      <th>Bus 9_PA</th>\n",
       "      <th>Freq 1</th>\n",
       "      <th>Freq 2</th>\n",
       "      <th>Freq 3</th>\n",
       "      <th>Fault_duration_location</th>\n",
       "    </tr>\n",
       "  </thead>\n",
       "  <tbody>\n",
       "    <tr>\n",
       "      <th>76</th>\n",
       "      <td>2.00</td>\n",
       "      <td>1.34</td>\n",
       "      <td>1.37</td>\n",
       "      <td>1.41</td>\n",
       "      <td>1.34</td>\n",
       "      <td>1.33</td>\n",
       "      <td>1.40</td>\n",
       "      <td>1.37</td>\n",
       "      <td>1.37</td>\n",
       "      <td>1.30</td>\n",
       "      <td>...</td>\n",
       "      <td>0.54</td>\n",
       "      <td>0.53</td>\n",
       "      <td>0.67</td>\n",
       "      <td>0.64</td>\n",
       "      <td>0.69</td>\n",
       "      <td>0.52</td>\n",
       "      <td>0.01</td>\n",
       "      <td>-0.08</td>\n",
       "      <td>0.00</td>\n",
       "      <td>7.35</td>\n",
       "    </tr>\n",
       "    <tr>\n",
       "      <th>10919</th>\n",
       "      <td>0.12</td>\n",
       "      <td>1.00</td>\n",
       "      <td>1.00</td>\n",
       "      <td>1.00</td>\n",
       "      <td>0.99</td>\n",
       "      <td>0.98</td>\n",
       "      <td>1.00</td>\n",
       "      <td>0.99</td>\n",
       "      <td>1.00</td>\n",
       "      <td>0.96</td>\n",
       "      <td>...</td>\n",
       "      <td>-0.04</td>\n",
       "      <td>-0.07</td>\n",
       "      <td>0.03</td>\n",
       "      <td>0.01</td>\n",
       "      <td>0.07</td>\n",
       "      <td>-0.08</td>\n",
       "      <td>0.00</td>\n",
       "      <td>0.00</td>\n",
       "      <td>0.00</td>\n",
       "      <td>5.35</td>\n",
       "    </tr>\n",
       "    <tr>\n",
       "      <th>23768</th>\n",
       "      <td>1.21</td>\n",
       "      <td>0.01</td>\n",
       "      <td>0.70</td>\n",
       "      <td>0.68</td>\n",
       "      <td>0.18</td>\n",
       "      <td>0.32</td>\n",
       "      <td>0.59</td>\n",
       "      <td>0.58</td>\n",
       "      <td>0.59</td>\n",
       "      <td>0.31</td>\n",
       "      <td>...</td>\n",
       "      <td>-1.22</td>\n",
       "      <td>-1.34</td>\n",
       "      <td>-1.35</td>\n",
       "      <td>-1.27</td>\n",
       "      <td>-1.14</td>\n",
       "      <td>-1.22</td>\n",
       "      <td>0.02</td>\n",
       "      <td>0.03</td>\n",
       "      <td>0.02</td>\n",
       "      <td>1.30</td>\n",
       "    </tr>\n",
       "    <tr>\n",
       "      <th>2028</th>\n",
       "      <td>1.51</td>\n",
       "      <td>1.17</td>\n",
       "      <td>1.20</td>\n",
       "      <td>1.19</td>\n",
       "      <td>1.17</td>\n",
       "      <td>1.16</td>\n",
       "      <td>1.19</td>\n",
       "      <td>1.17</td>\n",
       "      <td>1.19</td>\n",
       "      <td>1.14</td>\n",
       "      <td>...</td>\n",
       "      <td>0.18</td>\n",
       "      <td>0.13</td>\n",
       "      <td>0.18</td>\n",
       "      <td>0.13</td>\n",
       "      <td>0.17</td>\n",
       "      <td>0.11</td>\n",
       "      <td>0.00</td>\n",
       "      <td>0.01</td>\n",
       "      <td>-0.01</td>\n",
       "      <td>3.20</td>\n",
       "    </tr>\n",
       "    <tr>\n",
       "      <th>20472</th>\n",
       "      <td>2.97</td>\n",
       "      <td>1.06</td>\n",
       "      <td>0.97</td>\n",
       "      <td>0.97</td>\n",
       "      <td>1.02</td>\n",
       "      <td>0.99</td>\n",
       "      <td>0.99</td>\n",
       "      <td>0.97</td>\n",
       "      <td>0.98</td>\n",
       "      <td>0.97</td>\n",
       "      <td>...</td>\n",
       "      <td>0.91</td>\n",
       "      <td>0.88</td>\n",
       "      <td>0.99</td>\n",
       "      <td>0.97</td>\n",
       "      <td>1.02</td>\n",
       "      <td>0.87</td>\n",
       "      <td>-0.22</td>\n",
       "      <td>-0.23</td>\n",
       "      <td>-0.23</td>\n",
       "      <td>4.50</td>\n",
       "    </tr>\n",
       "  </tbody>\n",
       "</table>\n",
       "<p>5 rows × 23 columns</p>\n",
       "</div>"
      ],
      "text/plain": [
       "       Time  Bus 1_Vm  Bus 2_Vm  Bus 3_Vm  Bus 4_Vm  Bus 5_Vm  Bus 6_Vm  \\\n",
       "76     2.00      1.34      1.37      1.41      1.34      1.33      1.40   \n",
       "10919  0.12      1.00      1.00      1.00      0.99      0.98      1.00   \n",
       "23768  1.21      0.01      0.70      0.68      0.18      0.32      0.59   \n",
       "2028   1.51      1.17      1.20      1.19      1.17      1.16      1.19   \n",
       "20472  2.97      1.06      0.97      0.97      1.02      0.99      0.99   \n",
       "\n",
       "       Bus 7_Vm  Bus 8_Vm  Bus 9_Vm  ...  Bus 4_PA  Bus 5_PA  Bus 6_PA  \\\n",
       "76         1.37      1.37      1.30  ...      0.54      0.53      0.67   \n",
       "10919      0.99      1.00      0.96  ...     -0.04     -0.07      0.03   \n",
       "23768      0.58      0.59      0.31  ...     -1.22     -1.34     -1.35   \n",
       "2028       1.17      1.19      1.14  ...      0.18      0.13      0.18   \n",
       "20472      0.97      0.98      0.97  ...      0.91      0.88      0.99   \n",
       "\n",
       "       Bus 7_PA  Bus 8_PA  Bus 9_PA  Freq 1  Freq 2  Freq 3  \\\n",
       "76         0.64      0.69      0.52    0.01   -0.08    0.00   \n",
       "10919      0.01      0.07     -0.08    0.00    0.00    0.00   \n",
       "23768     -1.27     -1.14     -1.22    0.02    0.03    0.02   \n",
       "2028       0.13      0.17      0.11    0.00    0.01   -0.01   \n",
       "20472      0.97      1.02      0.87   -0.22   -0.23   -0.23   \n",
       "\n",
       "       Fault_duration_location  \n",
       "76                        7.35  \n",
       "10919                     5.35  \n",
       "23768                     1.30  \n",
       "2028                      3.20  \n",
       "20472                     4.50  \n",
       "\n",
       "[5 rows x 23 columns]"
      ]
     },
     "execution_count": 8,
     "metadata": {},
     "output_type": "execute_result"
    }
   ],
   "source": [
    "import numpy as np\n",
    "import pandas\n",
    "import sklearn\n",
    "import matplotlib.pyplot\n",
    "\n",
    "dataframe = pandas.read_csv(\"faultdataset-Bus7.csv\")\n",
    "dataframe.sample(n=5)"
   ]
  },
  {
   "cell_type": "code",
   "execution_count": 9,
   "metadata": {},
   "outputs": [
    {
     "name": "stdout",
     "output_type": "stream",
     "text": [
      "/Users/matthew/Programs/machine_learning/venv/bin/python3\n"
     ]
    }
   ],
   "source": [
    "import sys\n",
    "print(sys.executable)"
   ]
  },
  {
   "cell_type": "code",
   "execution_count": 10,
   "metadata": {
    "id": "x2AKyoolCWQ_"
   },
   "outputs": [
    {
     "ename": "NameError",
     "evalue": "name 'train_test_split' is not defined",
     "output_type": "error",
     "traceback": [
      "\u001b[0;31m---------------------------------------------------------------------------\u001b[0m",
      "\u001b[0;31mNameError\u001b[0m                                 Traceback (most recent call last)",
      "Cell \u001b[0;32mIn[10], line 8\u001b[0m\n\u001b[1;32m      4\u001b[0m y \u001b[38;5;241m=\u001b[39m dataset[\u001b[38;5;241m0\u001b[39m:,\u001b[38;5;241m22\u001b[39m]\u001b[38;5;241m.\u001b[39mastype(\u001b[38;5;28mfloat\u001b[39m)\n\u001b[1;32m      7\u001b[0m \u001b[38;5;66;03m#Split the data into training and testing parts\u001b[39;00m\n\u001b[0;32m----> 8\u001b[0m X_train, X_test, y_train, y_test \u001b[38;5;241m=\u001b[39m \u001b[43mtrain_test_split\u001b[49m(X, y, test_size\u001b[38;5;241m=\u001b[39m\u001b[38;5;241m0.3\u001b[39m, random_state\u001b[38;5;241m=\u001b[39m\u001b[38;5;241m42\u001b[39m)\n",
      "\u001b[0;31mNameError\u001b[0m: name 'train_test_split' is not defined"
     ]
    }
   ],
   "source": [
    "#convert the data into an array\n",
    "dataset = dataframe.values\n",
    "X = dataset[0:,1:22].astype(float)\n",
    "y = dataset[0:,22].astype(float)\n",
    "\n",
    "\n",
    "#Split the data into training and testing parts\n",
    "X_train, X_test, y_train, y_test = train_test_split(X, y, test_size=0.3, random_state=42)"
   ]
  },
  {
   "cell_type": "markdown",
   "metadata": {
    "id": "Jg6fQDq8Jbik"
   },
   "source": [
    "# III. Training Models"
   ]
  },
  {
   "cell_type": "markdown",
   "metadata": {
    "id": "AAzgOYulnAzN"
   },
   "source": [
    "## K-Nearest Neighbors (KNN) Model##"
   ]
  },
  {
   "cell_type": "markdown",
   "metadata": {
    "id": "SLxMFfjqDlnC"
   },
   "source": [
    "### Hypertuning: GridSearchCV"
   ]
  },
  {
   "cell_type": "code",
   "execution_count": 21,
   "metadata": {
    "id": "jgZ2mprRnFqU"
   },
   "outputs": [],
   "source": [
    "knn_param={\n",
    "    'n_neighbors':[5,9,17,21,53,101],\n",
    "    'weights':['uniform','distance'],\n",
    "    # ERRROR: Euclidean mispelled...Geesh\n",
    "    'metric': ['euclidean','manhattan']\n",
    "}"
   ]
  },
  {
   "cell_type": "code",
   "execution_count": 32,
   "metadata": {
    "colab": {
     "base_uri": "https://localhost:8080/",
     "height": 385
    },
    "id": "U8gg9w5KGtU_",
    "outputId": "484603de-88b2-4a17-ec0a-1eaba638ef81"
   },
   "outputs": [
    {
     "name": "stdout",
     "output_type": "stream",
     "text": [
      "Fitting 5 folds for each of 10 candidates, totalling 50 fits\n"
     ]
    },
    {
     "data": {
      "text/plain": [
       "{'weights': 'uniform', 'n_neighbors': 101, 'metric': 'manhattan'}"
      ]
     },
     "execution_count": 32,
     "metadata": {},
     "output_type": "execute_result"
    }
   ],
   "source": [
    "# ERROR: return_train_score='true' should return_train_score=True\n",
    "knn=RandomizedSearchCV(KNeighborsRegressor(), knn_param, verbose=1, cv=5, n_jobs=-1, scoring='neg_mean_squared_error', return_train_score=True)\n",
    "knn_results=knn.fit(X,y)\n",
    "knn_results.best_score_\n",
    "knn_results.best_estimator_\n",
    "knn_results.best_params_"
   ]
  },
  {
   "cell_type": "markdown",
   "metadata": {
    "id": "nzsprn4UPiDD"
   },
   "source": [
    "### Testing results"
   ]
  },
  {
   "cell_type": "markdown",
   "metadata": {
    "id": "nzsprn4UPiDD"
   },
   "source": [
    "#### n_neighbors=70"
   ]
  },
  {
   "cell_type": "code",
   "execution_count": 61,
   "metadata": {
    "colab": {
     "base_uri": "https://localhost:8080/"
    },
    "id": "6OoGaxj_HnE8",
    "outputId": "872d3440-2dca-4741-c990-3b52e1958de6",
    "scrolled": true
   },
   "outputs": [
    {
     "name": "stdout",
     "output_type": "stream",
     "text": [
      "\n",
      "KNN model\n",
      "Mean Absolute Error (MAE) 1.9454126346211391\n",
      "Mean Squared Error (MSE) 5.683803259392609\n",
      "R Squared 0.1445056782877493\n"
     ]
    }
   ],
   "source": [
    "#KNN\n",
    "knn = KNeighborsRegressor(metric='manhattan', n_neighbors=70, weights='distance').fit(X_train, y_train)\n",
    "knn_predictions = knn.predict(X_test)\n",
    "mae_knn=mean_absolute_error(y_test,knn_predictions)\n",
    "mse_knn=mean_squared_error(y_test,knn_predictions)\n",
    "r2_knn=r2_score(y_test,knn_predictions)\n",
    "print(\"\\nKNN model\")\n",
    "print(\"Mean Absolute Error (MAE) \"+str(mae_knn))\n",
    "print(\"Mean Squared Error (MSE) \"+str(mse_knn))\n",
    "print(\"R Squared \"+str(r2_knn))\n"
   ]
  },
  {
   "cell_type": "markdown",
   "metadata": {
    "id": "nzsprn4UPiDD"
   },
   "source": [
    "#### n_neighbors=140"
   ]
  },
  {
   "cell_type": "code",
   "execution_count": 62,
   "metadata": {
    "colab": {
     "base_uri": "https://localhost:8080/"
    },
    "id": "6OoGaxj_HnE8",
    "outputId": "872d3440-2dca-4741-c990-3b52e1958de6",
    "scrolled": true
   },
   "outputs": [
    {
     "name": "stdout",
     "output_type": "stream",
     "text": [
      "\n",
      "KNN model\n",
      "Mean Absolute Error (MAE) 1.9712956146471616\n",
      "Mean Squared Error (MSE) 5.7743453766789\n",
      "R Squared 0.13087778448508725\n"
     ]
    }
   ],
   "source": [
    "#KNN\n",
    "knn = KNeighborsRegressor(metric='manhattan', n_neighbors=140, weights='distance').fit(X_train, y_train)\n",
    "knn_predictions = knn.predict(X_test)\n",
    "mae_knn=mean_absolute_error(y_test,knn_predictions)\n",
    "mse_knn=mean_squared_error(y_test,knn_predictions)\n",
    "r2_knn=r2_score(y_test,knn_predictions)\n",
    "print(\"\\nKNN model\")\n",
    "print(\"Mean Absolute Error (MAE) \"+str(mae_knn))\n",
    "print(\"Mean Squared Error (MSE) \"+str(mse_knn))\n",
    "print(\"R Squared \"+str(r2_knn))\n"
   ]
  },
  {
   "cell_type": "markdown",
   "metadata": {
    "id": "Nt8DJo3PGCrI"
   },
   "source": [
    "## Random Forest Regressor (RFR) Model"
   ]
  },
  {
   "cell_type": "code",
   "execution_count": 33,
   "metadata": {
    "id": "Lof0cw9dppV_"
   },
   "outputs": [],
   "source": [
    "rf_param = {\n",
    "    'n_estimators': [100, 1000, 10000],\n",
    "    # ERROR: 'max_features':['none', 'sqrt', 'log2'] needs to be 'max_features': [None, 'sqrt', 'log2']\n",
    "    'max_features': [None, 'sqrt', 'log2'],\n",
    "    'max_depth' : [4,6]\n",
    "}"
   ]
  },
  {
   "cell_type": "code",
   "execution_count": 31,
   "metadata": {
    "id": "yLdrdVl7CMlF"
   },
   "outputs": [
    {
     "name": "stdout",
     "output_type": "stream",
     "text": [
      "Fitting 5 folds for each of 18 candidates, totalling 90 fits\n"
     ]
    },
    {
     "data": {
      "text/plain": [
       "{'max_depth': 4, 'max_features': None, 'n_estimators': 10000}"
      ]
     },
     "execution_count": 31,
     "metadata": {},
     "output_type": "execute_result"
    }
   ],
   "source": [
    "# ERROR: return_train_score='true' should return_train_score=True\n",
    "rf_gridsearch=GridSearchCV(RandomForestRegressor(), rf_param, verbose=1, cv=5, n_jobs=-1, scoring='neg_mean_squared_error', return_train_score=True)\n",
    "rf_results=rf_gridsearch.fit(X,y)\n",
    "rf_results.best_score_\n",
    "rf_results.best_estimator_\n",
    "rf_results.best_params_"
   ]
  },
  {
   "cell_type": "markdown",
   "metadata": {
    "id": "4DoMH2qGPyd2"
   },
   "source": [
    "### Testing results"
   ]
  },
  {
   "cell_type": "markdown",
   "metadata": {},
   "source": [
    "#### n_estimators = 50"
   ]
  },
  {
   "cell_type": "code",
   "execution_count": 59,
   "metadata": {
    "colab": {
     "base_uri": "https://localhost:8080/"
    },
    "id": "BeVLesOILIpH",
    "outputId": "3236d12e-20cc-4f67-8d91-21eddc9fa8f5"
   },
   "outputs": [
    {
     "name": "stdout",
     "output_type": "stream",
     "text": [
      "\n",
      "Random Forest Model: 1000 Estimators\n",
      "Mean Absolute Error (MAE) 1.2549365723153647\n",
      "Mean Squared Error (MSE) 3.2550954851039284\n",
      "R Squared 0.5100612077774171\n"
     ]
    }
   ],
   "source": [
    "#RF\n",
    "# Error: InvalidParameterError: The 'max_features' parameter of RandomForestRegressor must be an int in the range [1, inf), a float in the range (0.0, 1.0], a str among {'log2', 'sqrt'} or None. Got 'auto' instead.\n",
    "#rf = RandomForestRegressor(n_estimators=1000, max_features='auto')\n",
    "rf = RandomForestRegressor(n_estimators=50, max_features=None)\n",
    "rf.fit(X_train,y_train)\n",
    "rf_prediction=rf.predict(X_test)\n",
    "mae_rf=mean_absolute_error(y_test,rf_prediction)\n",
    "mse_rf=mean_squared_error(y_test,rf_prediction)\n",
    "r2_rf=r2_score(y_test,rf_prediction)\n",
    "print(\"\\nRandom Forest Model: 1000 Estimators\")\n",
    "print(\"Mean Absolute Error (MAE) \"+str(mae_rf))\n",
    "print(\"Mean Squared Error (MSE) \"+str(mse_rf))\n",
    "print(\"R Squared \"+str(r2_rf))\n",
    "\n",
    "#learning curve\n",
    "#train_sizes_rf, train_scores_rf, validation_scores_rf = learning_curve(rf,X,y, cv=5, scoring = 'neg_mean_squared_error')"
   ]
  },
  {
   "cell_type": "markdown",
   "metadata": {},
   "source": [
    "#### n_estimators = 150"
   ]
  },
  {
   "cell_type": "code",
   "execution_count": 60,
   "metadata": {
    "colab": {
     "base_uri": "https://localhost:8080/"
    },
    "id": "BeVLesOILIpH",
    "outputId": "3236d12e-20cc-4f67-8d91-21eddc9fa8f5"
   },
   "outputs": [
    {
     "name": "stdout",
     "output_type": "stream",
     "text": [
      "\n",
      "Random Forest Model: 1000 Estimators\n",
      "Mean Absolute Error (MAE) 1.2479876220328199\n",
      "Mean Squared Error (MSE) 3.215878617787794\n",
      "R Squared 0.5159639116137706\n"
     ]
    }
   ],
   "source": [
    "#RF\n",
    "# Error: InvalidParameterError: The 'max_features' parameter of RandomForestRegressor must be an int in the range [1, inf), a float in the range (0.0, 1.0], a str among {'log2', 'sqrt'} or None. Got 'auto' instead.\n",
    "#rf = RandomForestRegressor(n_estimators=1000, max_features='auto')\n",
    "rf = RandomForestRegressor(n_estimators=150, max_features=None)\n",
    "rf.fit(X_train,y_train)\n",
    "rf_prediction=rf.predict(X_test)\n",
    "mae_rf=mean_absolute_error(y_test,rf_prediction)\n",
    "mse_rf=mean_squared_error(y_test,rf_prediction)\n",
    "r2_rf=r2_score(y_test,rf_prediction)\n",
    "print(\"\\nRandom Forest Model: 1000 Estimators\")\n",
    "print(\"Mean Absolute Error (MAE) \"+str(mae_rf))\n",
    "print(\"Mean Squared Error (MSE) \"+str(mse_rf))\n",
    "print(\"R Squared \"+str(r2_rf))\n",
    "\n",
    "#learning curve\n",
    "#train_sizes_rf, train_scores_rf, validation_scores_rf = learning_curve(rf,X,y, cv=5, scoring = 'neg_mean_squared_error')"
   ]
  },
  {
   "cell_type": "markdown",
   "metadata": {
    "id": "EOuoXNdTISFi"
   },
   "source": [
    "## Naive Bayes (NB) Model"
   ]
  },
  {
   "cell_type": "code",
   "execution_count": 52,
   "metadata": {
    "colab": {
     "base_uri": "https://localhost:8080/"
    },
    "id": "iiMX3soMJi5m",
    "outputId": "6e9da2bb-66ff-4609-cf95-de0a58606f92",
    "scrolled": true
   },
   "outputs": [
    {
     "name": "stdout",
     "output_type": "stream",
     "text": [
      "Fitting 5 folds for each of 80 candidates, totalling 400 fits\n"
     ]
    },
    {
     "data": {
      "text/plain": [
       "{'alpha_1': 1, 'lambda_1': 1e-06, 'max_iter': 100}"
      ]
     },
     "execution_count": 52,
     "metadata": {},
     "output_type": "execute_result"
    }
   ],
   "source": [
    "nb_param={\n",
    "    #ValueError: Invalid parameter 'n_iter' for estimator BayesianRidge\n",
    "    #'n_iter':[100, 200,300, 400, 500],\n",
    "    'max_iter':[100, 200,300, 400, 500],\n",
    "    'lambda_1':[ 1,1e-06, 1e-02, 1e-04],\n",
    "    'alpha_1': [ 1,1e-06, 1e-02, 1e-04]\n",
    "}\n",
    "# ERROR: return_train_score='true' should return_train_score=True\n",
    "nb=GridSearchCV(linear_model.BayesianRidge(),nb_param,verbose=1,cv=5,n_jobs=-1, scoring= 'neg_mean_squared_error',  return_train_score=True)\n",
    "nb_results=nb.fit(X,y)\n",
    "nb_results.best_score_\n",
    "nb_results.best_estimator_\n",
    "nb_results.best_params_"
   ]
  },
  {
   "cell_type": "markdown",
   "metadata": {
    "id": "hkDtIomdPy_z"
   },
   "source": [
    "### Testing results"
   ]
  },
  {
   "cell_type": "markdown",
   "metadata": {
    "id": "hkDtIomdPy_z"
   },
   "source": [
    "#### max_iter = 150"
   ]
  },
  {
   "cell_type": "code",
   "execution_count": 42,
   "metadata": {
    "colab": {
     "base_uri": "https://localhost:8080/"
    },
    "id": "3xQc2t5IpmEZ",
    "outputId": "6d62799a-934c-401b-9aa4-14dde40c2448"
   },
   "outputs": [
    {
     "name": "stdout",
     "output_type": "stream",
     "text": [
      "\n",
      "Naive Bayesian model\n",
      "Mean Absolute Error (MAE) 2.066736544323985\n",
      "Mean Squared Error (MSE) 6.082267773215986\n",
      "R Squared 0.0845310251509761\n"
     ]
    }
   ],
   "source": [
    "#NB\n",
    "#TypeError: __init__() got an unexpected keyword argument 'n_iter'\n",
    "# nb =linear_model.BayesianRidge(n_iter=300, lambda_1= 1e-06, alpha_1=1).fit(X_train, y_train)\n",
    "nb =linear_model.BayesianRidge(max_iter=150, lambda_1= 1e-06, alpha_1=1).fit(X_train, y_train)\n",
    "gnb_predictions = nb.predict(X_test)\n",
    "mae_nb=mean_absolute_error(y_test,gnb_predictions)\n",
    "mse_nb=mean_squared_error(y_test,gnb_predictions)\n",
    "r2_nb=r2_score(y_test,gnb_predictions)\n",
    "print(\"\\nNaive Bayesian model\")\n",
    "print(\"Mean Absolute Error (MAE) \"+str(mae_nb))\n",
    "print(\"Mean Squared Error (MSE) \"+str(mse_nb))\n",
    "print(\"R Squared \"+str(r2_nb))"
   ]
  },
  {
   "cell_type": "markdown",
   "metadata": {
    "id": "hkDtIomdPy_z"
   },
   "source": [
    "#### max_iter = 250"
   ]
  },
  {
   "cell_type": "code",
   "execution_count": 63,
   "metadata": {
    "colab": {
     "base_uri": "https://localhost:8080/"
    },
    "id": "3xQc2t5IpmEZ",
    "outputId": "6d62799a-934c-401b-9aa4-14dde40c2448"
   },
   "outputs": [
    {
     "name": "stdout",
     "output_type": "stream",
     "text": [
      "The history saving thread hit an unexpected error (OperationalError('attempt to write a readonly database')).History will not be written to the database.\n",
      "\n",
      "Naive Bayesian model\n",
      "Mean Absolute Error (MAE) 2.066736544323985\n",
      "Mean Squared Error (MSE) 6.082267773215986\n",
      "R Squared 0.0845310251509761\n"
     ]
    }
   ],
   "source": [
    "#NB\n",
    "#TypeError: __init__() got an unexpected keyword argument 'n_iter'\n",
    "# nb =linear_model.BayesianRidge(n_iter=300, lambda_1= 1e-06, alpha_1=1).fit(X_train, y_train)\n",
    "nb =linear_model.BayesianRidge(max_iter=250, lambda_1= 1e-06, alpha_1=1).fit(X_train, y_train)\n",
    "gnb_predictions = nb.predict(X_test)\n",
    "mae_nb=mean_absolute_error(y_test,gnb_predictions)\n",
    "mse_nb=mean_squared_error(y_test,gnb_predictions)\n",
    "r2_nb=r2_score(y_test,gnb_predictions)\n",
    "print(\"\\nNaive Bayesian model\")\n",
    "print(\"Mean Absolute Error (MAE) \"+str(mae_nb))\n",
    "print(\"Mean Squared Error (MSE) \"+str(mse_nb))\n",
    "print(\"R Squared \"+str(r2_nb))"
   ]
  },
  {
   "cell_type": "markdown",
   "metadata": {
    "id": "cY_Zg0KfIfvx"
   },
   "source": [
    "## Decision Tree (DT) Model"
   ]
  },
  {
   "cell_type": "code",
   "execution_count": 46,
   "metadata": {
    "colab": {
     "base_uri": "https://localhost:8080/"
    },
    "id": "QfxA2Cn-Ka2b",
    "outputId": "e568243f-69b1-4703-cb21-b9b135c2645c"
   },
   "outputs": [],
   "source": [
    "# This block of code failed to terminate in a reasonable period of time. \n",
    "\n",
    "#dt_param={\n",
    " #   'random_state':[0,1,2, 3, 4, 5],\n",
    " #   'min_samples_leaf':[ 1,6, 12, 18],\n",
    " #   'criterion':['squared_error', 'friedman_mse', 'absolute_error', 'poisson']\n",
    "#}\n",
    "\n",
    "#dt=GridSearchCV(DecisionTreeRegressor(), dt_param, verbose=1, cv=5, n_jobs=-1, scoring='neg_mean_squared_error', return_train_score=True)\n",
    "#dt_results=dt.fit(X,y)\n",
    "#dt_results.best_score_\n",
    "#dt_results.best_estimator_\n",
    "#dt_results.best_params_"
   ]
  },
  {
   "cell_type": "markdown",
   "metadata": {
    "id": "r8TRXbotP0a2"
   },
   "source": [
    "### Testing resutls"
   ]
  },
  {
   "cell_type": "markdown",
   "metadata": {},
   "source": [
    "#### min_samples_leaf = 15"
   ]
  },
  {
   "cell_type": "code",
   "execution_count": 64,
   "metadata": {
    "colab": {
     "base_uri": "https://localhost:8080/"
    },
    "id": "5d_PndrvpsVI",
    "outputId": "84e67e51-5c16-4cdc-f499-fae674ba10b6"
   },
   "outputs": [
    {
     "name": "stdout",
     "output_type": "stream",
     "text": [
      "\n",
      "Decision tree model\n",
      "Mean Absolute Error (MAE) 1.490420772173397\n",
      "Mean Squared Error (MSE) 4.223145621776413\n",
      "R Squared 0.36435570791031247\n"
     ]
    }
   ],
   "source": [
    "#DT\n",
    "dt = DecisionTreeRegressor(min_samples_leaf=15,  max_features=20, random_state= 4 ).fit(X_train, y_train)\n",
    "dtree_prediction = dt.predict(X_test)\n",
    "mae_dt=mean_absolute_error(y_test,dtree_prediction)\n",
    "mse_dt=mean_squared_error(y_test,dtree_prediction)\n",
    "r2_dt=r2_score(y_test,dtree_prediction)\n",
    "\n",
    "print(\"\\nDecision tree model\")\n",
    "print(\"Mean Absolute Error (MAE) \"+str(mae_dt))\n",
    "print(\"Mean Squared Error (MSE) \"+str(mse_dt))\n",
    "print(\"R Squared \"+str(r2_dt))"
   ]
  },
  {
   "cell_type": "markdown",
   "metadata": {},
   "source": [
    "#### min_samples_leaf = 25"
   ]
  },
  {
   "cell_type": "code",
   "execution_count": 65,
   "metadata": {
    "colab": {
     "base_uri": "https://localhost:8080/"
    },
    "id": "5d_PndrvpsVI",
    "outputId": "84e67e51-5c16-4cdc-f499-fae674ba10b6"
   },
   "outputs": [
    {
     "name": "stdout",
     "output_type": "stream",
     "text": [
      "\n",
      "Decision tree model\n",
      "Mean Absolute Error (MAE) 1.5466888765266227\n",
      "Mean Squared Error (MSE) 4.3256465132523285\n",
      "R Squared 0.34892784620817097\n"
     ]
    }
   ],
   "source": [
    "#DT\n",
    "dt = DecisionTreeRegressor(min_samples_leaf=25,  max_features=20, random_state= 4 ).fit(X_train, y_train)\n",
    "dtree_prediction = dt.predict(X_test)\n",
    "mae_dt=mean_absolute_error(y_test,dtree_prediction)\n",
    "mse_dt=mean_squared_error(y_test,dtree_prediction)\n",
    "r2_dt=r2_score(y_test,dtree_prediction)\n",
    "\n",
    "print(\"\\nDecision tree model\")\n",
    "print(\"Mean Absolute Error (MAE) \"+str(mae_dt))\n",
    "print(\"Mean Squared Error (MSE) \"+str(mse_dt))\n",
    "print(\"R Squared \"+str(r2_dt))"
   ]
  },
  {
   "cell_type": "markdown",
   "metadata": {
    "id": "s6yJru21IuUH"
   },
   "source": [
    "## Neural Network (NN) Model"
   ]
  },
  {
   "cell_type": "markdown",
   "metadata": {
    "id": "54uswHQXQWUl"
   },
   "source": [
    "### Testing results"
   ]
  },
  {
   "cell_type": "markdown",
   "metadata": {},
   "source": [
    "#### hidden_layer_size=50"
   ]
  },
  {
   "cell_type": "code",
   "execution_count": 69,
   "metadata": {},
   "outputs": [
    {
     "name": "stdout",
     "output_type": "stream",
     "text": [
      "NN with Relu activation function\n",
      "Mean Absolute Error (MAE) 1.8115107105044252\n",
      "Mean Squared Error (MSE) 4.977857471995471\n",
      "R Squared 0.2507606953939313\n"
     ]
    }
   ],
   "source": [
    "NN1 = MLPRegressor(max_iter=1500, activation='relu', solver='adam', learning_rate_init=0.001, hidden_layer_sizes=50).fit(X_train,y_train)\n",
    "NN1_prediction = NN1.predict(X_test)\n",
    "mae_NN1=mean_absolute_error(y_test,NN1_prediction)\n",
    "mse_NN1=mean_squared_error(y_test,NN1_prediction)\n",
    "r2_NN1=r2_score(y_test,NN1_prediction)\n",
    "print(\"NN with Relu activation function\")\n",
    "print(\"Mean Absolute Error (MAE) \"+str(mae_NN1))\n",
    "print(\"Mean Squared Error (MSE) \"+str(mse_NN1))\n",
    "print(\"R Squared \"+str(r2_NN1))"
   ]
  },
  {
   "cell_type": "markdown",
   "metadata": {},
   "source": [
    "#### hidden_layer_size=100"
   ]
  },
  {
   "cell_type": "code",
   "execution_count": 70,
   "metadata": {
    "colab": {
     "base_uri": "https://localhost:8080/"
    },
    "id": "O72wgWAhuTwU",
    "outputId": "5861705e-bed6-4d45-a1b4-ecadb6727fc5"
   },
   "outputs": [
    {
     "name": "stdout",
     "output_type": "stream",
     "text": [
      "NN with Relu activation function\n",
      "Mean Absolute Error (MAE) 1.7318143899701244\n",
      "Mean Squared Error (MSE) 4.635700247889923\n",
      "R Squared 0.3022602897670137\n"
     ]
    }
   ],
   "source": [
    "NN1 = MLPRegressor(max_iter=1500, activation='relu', solver='adam', learning_rate_init=0.001, hidden_layer_sizes=100).fit(X_train,y_train)\n",
    "NN1_prediction = NN1.predict(X_test)\n",
    "mae_NN1=mean_absolute_error(y_test,NN1_prediction)\n",
    "mse_NN1=mean_squared_error(y_test,NN1_prediction)\n",
    "r2_NN1=r2_score(y_test,NN1_prediction)\n",
    "print(\"NN with Relu activation function\")\n",
    "print(\"Mean Absolute Error (MAE) \"+str(mae_NN1))\n",
    "print(\"Mean Squared Error (MSE) \"+str(mse_NN1))\n",
    "print(\"R Squared \"+str(r2_NN1))"
   ]
  },
  {
   "cell_type": "markdown",
   "metadata": {
    "id": "Lox6yzs5I0mk"
   },
   "source": [
    "## Support Vector Machine (SVM) Model"
   ]
  },
  {
   "cell_type": "markdown",
   "metadata": {
    "id": "IQ0s9loSQXwE"
   },
   "source": [
    "### Testing results"
   ]
  },
  {
   "cell_type": "markdown",
   "metadata": {},
   "source": [
    "#### kernel = 'poly'"
   ]
  },
  {
   "cell_type": "code",
   "execution_count": 74,
   "metadata": {
    "colab": {
     "base_uri": "https://localhost:8080/"
    },
    "id": "F9Zy2fsfvCjI",
    "outputId": "0a9f0143-2686-4cb6-d0d8-2636b31ec913"
   },
   "outputs": [
    {
     "name": "stdout",
     "output_type": "stream",
     "text": [
      "\n",
      "SVR with a rbf kernel\n",
      "Mean Absolute Error (MAE) 1.9964323024698485\n",
      "Mean Squared Error (MSE) 6.015470472991519\n",
      "R Squared 0.0945849817078479\n"
     ]
    }
   ],
   "source": [
    "SVM_model_2 = SVR(kernel = 'poly', C = 10, gamma = 'scale').fit(X_train, y_train)\n",
    "SVM_predictions_2 = SVM_model_2.predict(X_test)\n",
    "mae_SVM_2=mean_absolute_error(y_test,SVM_predictions_2)\n",
    "mse_SVM_2=mean_squared_error(y_test,SVM_predictions_2)\n",
    "r2_SVM_2=r2_score(y_test,SVM_predictions_2)\n",
    "print(\"\\nSVR with a rbf kernel\")\n",
    "print(\"Mean Absolute Error (MAE) \"+str(mae_SVM_2))\n",
    "print(\"Mean Squared Error (MSE) \"+str(mse_SVM_2))\n",
    "print(\"R Squared \"+str(r2_SVM_2))"
   ]
  },
  {
   "cell_type": "markdown",
   "metadata": {},
   "source": [
    "#### kernel = 'linear'"
   ]
  },
  {
   "cell_type": "code",
   "execution_count": 75,
   "metadata": {
    "colab": {
     "base_uri": "https://localhost:8080/"
    },
    "id": "F9Zy2fsfvCjI",
    "outputId": "0a9f0143-2686-4cb6-d0d8-2636b31ec913",
    "scrolled": true
   },
   "outputs": [
    {
     "name": "stdout",
     "output_type": "stream",
     "text": [
      "\n",
      "SVR with a rbf kernel\n",
      "Mean Absolute Error (MAE) 2.0486280687371323\n",
      "Mean Squared Error (MSE) 6.170430553698182\n",
      "R Squared 0.07126125583511456\n"
     ]
    }
   ],
   "source": [
    "SVM_model_2 = SVR(kernel = 'linear', C = 10, gamma = 'scale').fit(X_train, y_train)\n",
    "SVM_predictions_2 = SVM_model_2.predict(X_test)\n",
    "mae_SVM_2=mean_absolute_error(y_test,SVM_predictions_2)\n",
    "mse_SVM_2=mean_squared_error(y_test,SVM_predictions_2)\n",
    "r2_SVM_2=r2_score(y_test,SVM_predictions_2)\n",
    "print(\"\\nSVR with a rbf kernel\")\n",
    "print(\"Mean Absolute Error (MAE) \"+str(mae_SVM_2))\n",
    "print(\"Mean Squared Error (MSE) \"+str(mse_SVM_2))\n",
    "print(\"R Squared \"+str(r2_SVM_2))"
   ]
  },
  {
   "cell_type": "markdown",
   "metadata": {},
   "source": [
    "## IV. Simulate Missing Data"
   ]
  },
  {
   "cell_type": "markdown",
   "metadata": {
    "colab": {
     "base_uri": "https://localhost:8080/"
    },
    "id": "O72wgWAhuTwU",
    "outputId": "5861705e-bed6-4d45-a1b4-ecadb6727fc5"
   },
   "source": [
    "#### Generate missing data by percentage 10%"
   ]
  },
  {
   "cell_type": "code",
   "execution_count": 80,
   "metadata": {},
   "outputs": [
    {
     "name": "stdout",
     "output_type": "stream",
     "text": [
      "Percentage of newly generated missing values: 0.1\n"
     ]
    }
   ],
   "source": [
    "#Generate missing data by percentage 10%\n",
    "import warnings\n",
    "\n",
    "def ampute_mcar(X_complete, missing_rate = 0.1):\n",
    "    # Mask completely at random some values\n",
    "\n",
    "    M = np.random.binomial(1, missing_rate, size = X_complete.shape)\n",
    "    X_obs = X_complete.copy()\n",
    "    np.putmask(X_obs, M, np.nan)\n",
    "    print('Percentage of newly generated missing values: {}'.\\\n",
    "      format(np.round(np.sum(np.isnan(X_obs))/X_obs.size,3)))\n",
    "\n",
    "    # warning if a full row is missing\n",
    "    for row in X_obs:\n",
    "        if np.all(np.isnan(row)):\n",
    "            warnings.warn('Some row(s) contains only nan values.')\n",
    "            break\n",
    "\n",
    "    # warning if a full col is missing\n",
    "    for col in X_obs.T:\n",
    "        if np.all(np.isnan(col)):\n",
    "            warnings.warn('Some col(s) contains only nan values.')\n",
    "            break\n",
    "\n",
    "    return X_obs\n",
    "\n",
    "X_train_missing_data = ampute_mcar(X_train, missing_rate = 0.1)\n",
    "\n",
    "#Convert NAN values into 0\n",
    "from numpy import *\n",
    "where_are_NaNs = isnan(X_train_missing_data)\n",
    "X_train_missing_data[where_are_NaNs] = 0"
   ]
  },
  {
   "cell_type": "markdown",
   "metadata": {},
   "source": [
    "#### Re-Training RFR including missing data"
   ]
  },
  {
   "cell_type": "code",
   "execution_count": 86,
   "metadata": {},
   "outputs": [
    {
     "name": "stdout",
     "output_type": "stream",
     "text": [
      "Percentage of newly generated missing values: 0.2\n",
      "\n",
      "RFR model\n",
      "Mean Absolute Error (MAE) 1.5282211605494629\n",
      "Mean Squared Error (MSE) 3.9866655014608745\n",
      "R Squared 0.3999493748433569\n"
     ]
    }
   ],
   "source": [
    "# RFR: Generate 20% of missing data\n",
    "X_train_missing_data = ampute_mcar(X_train, missing_rate = 0.2)\n",
    "\n",
    "#Convert NAN values into 0\n",
    "where_are_NaNs = isnan(X_train_missing_data)\n",
    "X_train_missing_data[where_are_NaNs] = 0\n",
    "\n",
    "# Train\n",
    "rf = RandomForestRegressor(n_estimators=1000)\n",
    "rf.fit(X_train_missing_data,y_train)\n",
    "\n",
    "# Test\n",
    "rf_prediction=rf.predict(X_test)\n",
    "\n",
    "# Output metrics\n",
    "mae_rf=mean_absolute_error(y_test,rf_prediction)\n",
    "mse_rf=mean_squared_error(y_test,rf_prediction)\n",
    "r2_rf=r2_score(y_test,rf_prediction)\n",
    "\n",
    "print(\"\\nRFR model\")\n",
    "print(\"Mean Absolute Error (MAE) \"+str(mae_rf))\n",
    "print(\"Mean Squared Error (MSE) \"+str(mse_rf))\n",
    "print(\"R Squared \"+str(r2_rf))\n"
   ]
  },
  {
   "cell_type": "code",
   "execution_count": 87,
   "metadata": {},
   "outputs": [
    {
     "name": "stdout",
     "output_type": "stream",
     "text": [
      "Percentage of newly generated missing values: 0.4\n",
      "\n",
      "RFR model\n",
      "Mean Absolute Error (MAE) 1.7067877644459155\n",
      "Mean Squared Error (MSE) 4.548666142487701\n",
      "R Squared 0.31536017721365683\n"
     ]
    }
   ],
   "source": [
    "# RFR: Generate 40% of missing data\n",
    "X_train_missing_data = ampute_mcar(X_train, missing_rate = 0.4)\n",
    "\n",
    "# Convert NAN values into 0\n",
    "where_are_NaNs = isnan(X_train_missing_data)\n",
    "X_train_missing_data[where_are_NaNs] = 0\n",
    "\n",
    "# Train\n",
    "rf = RandomForestRegressor(n_estimators=1000)\n",
    "rf.fit(X_train_missing_data,y_train)\n",
    "\n",
    "# Test\n",
    "rf_prediction=rf.predict(X_test)\n",
    "\n",
    "# Output metrics\n",
    "mae_rf=mean_absolute_error(y_test,rf_prediction)\n",
    "mse_rf=mean_squared_error(y_test,rf_prediction)\n",
    "r2_rf=r2_score(y_test,rf_prediction)\n",
    "\n",
    "print(\"\\nRFR model\")\n",
    "print(\"Mean Absolute Error (MAE) \"+str(mae_rf))\n",
    "print(\"Mean Squared Error (MSE) \"+str(mse_rf))\n",
    "print(\"R Squared \"+str(r2_rf))\n"
   ]
  },
  {
   "cell_type": "code",
   "execution_count": 88,
   "metadata": {},
   "outputs": [
    {
     "name": "stdout",
     "output_type": "stream",
     "text": [
      "Percentage of newly generated missing values: 0.6\n"
     ]
    },
    {
     "name": "stderr",
     "output_type": "stream",
     "text": [
      "/var/folders/_f/4gpz1vkd4x12810cr6067xc40000gn/T/ipykernel_33960/3871708711.py:16: UserWarning: Some row(s) contains only nan values.\n",
      "  warnings.warn('Some row(s) contains only nan values.')\n"
     ]
    },
    {
     "name": "stdout",
     "output_type": "stream",
     "text": [
      "\n",
      "RFR model\n",
      "Mean Absolute Error (MAE) 1.9070431098171805\n",
      "Mean Squared Error (MSE) 5.31928404324804\n",
      "R Squared 0.19937107480747396\n"
     ]
    }
   ],
   "source": [
    "# RFR: Generate 60% of missing data\n",
    "X_train_missing_data = ampute_mcar(X_train, missing_rate = 0.6)\n",
    "\n",
    "# Convert NAN values into 0\n",
    "where_are_NaNs = isnan(X_train_missing_data)\n",
    "X_train_missing_data[where_are_NaNs] = 0\n",
    "\n",
    "# Train\n",
    "rf = RandomForestRegressor(n_estimators=1000)\n",
    "rf.fit(X_train_missing_data,y_train)\n",
    "\n",
    "# Test\n",
    "rf_prediction=rf.predict(X_test)\n",
    "\n",
    "# Output metrics\n",
    "mae_rf=mean_absolute_error(y_test,rf_prediction)\n",
    "mse_rf=mean_squared_error(y_test,rf_prediction)\n",
    "r2_rf=r2_score(y_test,rf_prediction)\n",
    "\n",
    "print(\"\\nRFR model\")\n",
    "print(\"Mean Absolute Error (MAE) \"+str(mae_rf))\n",
    "print(\"Mean Squared Error (MSE) \"+str(mse_rf))\n",
    "print(\"R Squared \"+str(r2_rf))\n"
   ]
  },
  {
   "cell_type": "code",
   "execution_count": 89,
   "metadata": {},
   "outputs": [
    {
     "name": "stdout",
     "output_type": "stream",
     "text": [
      "Percentage of newly generated missing values: 0.799\n"
     ]
    },
    {
     "name": "stderr",
     "output_type": "stream",
     "text": [
      "/var/folders/_f/4gpz1vkd4x12810cr6067xc40000gn/T/ipykernel_33960/3871708711.py:16: UserWarning: Some row(s) contains only nan values.\n",
      "  warnings.warn('Some row(s) contains only nan values.')\n"
     ]
    },
    {
     "name": "stdout",
     "output_type": "stream",
     "text": [
      "\n",
      "RFR model\n",
      "Mean Absolute Error (MAE) 2.0712628695157007\n",
      "Mean Squared Error (MSE) 5.907038613704783\n",
      "R Squared 0.11090553955953153\n"
     ]
    }
   ],
   "source": [
    "# RFR: Generate 80% of missing data\n",
    "X_train_missing_data = ampute_mcar(X_train, missing_rate = 0.8)\n",
    "\n",
    "# Convert NAN values into 0\n",
    "where_are_NaNs = isnan(X_train_missing_data)\n",
    "X_train_missing_data[where_are_NaNs] = 0\n",
    "\n",
    "# Train\n",
    "rf = RandomForestRegressor(n_estimators=1000)\n",
    "rf.fit(X_train_missing_data,y_train)\n",
    "\n",
    "# Test\n",
    "rf_prediction=rf.predict(X_test)\n",
    "\n",
    "# Output metrics\n",
    "mae_rf=mean_absolute_error(y_test,rf_prediction)\n",
    "mse_rf=mean_squared_error(y_test,rf_prediction)\n",
    "r2_rf=r2_score(y_test,rf_prediction)\n",
    "\n",
    "print(\"\\nRFR model\")\n",
    "print(\"Mean Absolute Error (MAE) \"+str(mae_rf))\n",
    "print(\"Mean Squared Error (MSE) \"+str(mse_rf))\n",
    "print(\"R Squared \"+str(r2_rf))\n"
   ]
  },
  {
   "cell_type": "markdown",
   "metadata": {},
   "source": [
    "#### Re-Training KNN model including missing data"
   ]
  },
  {
   "cell_type": "code",
   "execution_count": 90,
   "metadata": {},
   "outputs": [
    {
     "name": "stdout",
     "output_type": "stream",
     "text": [
      "Percentage of newly generated missing values: 0.199\n",
      "\n",
      "KNN model\n",
      "Mean Absolute Error (MAE) 2.176929626846982\n",
      "Mean Squared Error (MSE) 6.949971475081393\n",
      "R Squared -0.04607088979881779\n"
     ]
    }
   ],
   "source": [
    "# KNN: Generate 20% of missing data\n",
    "X_train_missing_data = ampute_mcar(X_train, missing_rate = 0.2)\n",
    "\n",
    "#Convert NAN values into 0\n",
    "where_are_NaNs = isnan(X_train_missing_data)\n",
    "X_train_missing_data[where_are_NaNs] = 0\n",
    "\n",
    "# Train\n",
    "knn = KNeighborsRegressor()\n",
    "knn.fit(X_train_missing_data,y_train)\n",
    "\n",
    "# Test\n",
    "knn_prediction=knn.predict(X_test)\n",
    "\n",
    "# Output metrics\n",
    "mae_knn=mean_absolute_error(y_test,knn_prediction)\n",
    "mse_knn=mean_squared_error(y_test,knn_prediction)\n",
    "r2_knn=r2_score(y_test,knn_prediction)\n",
    "\n",
    "print(\"\\nKNN model\")\n",
    "print(\"Mean Absolute Error (MAE) \"+str(mae_knn))\n",
    "print(\"Mean Squared Error (MSE) \"+str(mse_knn))\n",
    "print(\"R Squared \"+str(r2_knn))\n"
   ]
  },
  {
   "cell_type": "code",
   "execution_count": 91,
   "metadata": {},
   "outputs": [
    {
     "name": "stdout",
     "output_type": "stream",
     "text": [
      "Percentage of newly generated missing values: 0.401\n",
      "\n",
      "KNN model\n",
      "Mean Absolute Error (MAE) 2.3016053092912596\n",
      "Mean Squared Error (MSE) 7.609781943400952\n",
      "R Squared -0.1453818763501018\n"
     ]
    }
   ],
   "source": [
    "# KNN: Generate 40% of missing data\n",
    "X_train_missing_data = ampute_mcar(X_train, missing_rate = 0.4)\n",
    "\n",
    "#Convert NAN values into 0\n",
    "where_are_NaNs = isnan(X_train_missing_data)\n",
    "X_train_missing_data[where_are_NaNs] = 0\n",
    "\n",
    "# Train\n",
    "knn = KNeighborsRegressor()\n",
    "knn.fit(X_train_missing_data,y_train)\n",
    "\n",
    "# Test\n",
    "knn_prediction=knn.predict(X_test)\n",
    "\n",
    "# Output metrics\n",
    "mae_knn=mean_absolute_error(y_test,knn_prediction)\n",
    "mse_knn=mean_squared_error(y_test,knn_prediction)\n",
    "r2_knn=r2_score(y_test,knn_prediction)\n",
    "\n",
    "print(\"\\nKNN model\")\n",
    "print(\"Mean Absolute Error (MAE) \"+str(mae_knn))\n",
    "print(\"Mean Squared Error (MSE) \"+str(mse_knn))\n",
    "print(\"R Squared \"+str(r2_knn))\n",
    "\n",
    "\n"
   ]
  },
  {
   "cell_type": "code",
   "execution_count": 92,
   "metadata": {},
   "outputs": [
    {
     "name": "stdout",
     "output_type": "stream",
     "text": [
      "Percentage of newly generated missing values: 0.6\n"
     ]
    },
    {
     "name": "stderr",
     "output_type": "stream",
     "text": [
      "/var/folders/_f/4gpz1vkd4x12810cr6067xc40000gn/T/ipykernel_33960/3871708711.py:16: UserWarning: Some row(s) contains only nan values.\n",
      "  warnings.warn('Some row(s) contains only nan values.')\n"
     ]
    },
    {
     "name": "stdout",
     "output_type": "stream",
     "text": [
      "\n",
      "KNN model\n",
      "Mean Absolute Error (MAE) 2.340160280490859\n",
      "Mean Squared Error (MSE) 7.891099599298773\n",
      "R Squared -0.18772423871464738\n"
     ]
    }
   ],
   "source": [
    "# KNN: Generate 60% of missing data\n",
    "X_train_missing_data = ampute_mcar(X_train, missing_rate = 0.6)\n",
    "\n",
    "#Convert NAN values into 0\n",
    "where_are_NaNs = isnan(X_train_missing_data)\n",
    "X_train_missing_data[where_are_NaNs] = 0\n",
    "\n",
    "# Train\n",
    "knn = KNeighborsRegressor()\n",
    "knn.fit(X_train_missing_data,y_train)\n",
    "\n",
    "# Test\n",
    "knn_prediction=knn.predict(X_test)\n",
    "\n",
    "# Output metrics\n",
    "mae_knn=mean_absolute_error(y_test,knn_prediction)\n",
    "mse_knn=mean_squared_error(y_test,knn_prediction)\n",
    "r2_knn=r2_score(y_test,knn_prediction)\n",
    "\n",
    "print(\"\\nKNN model\")\n",
    "print(\"Mean Absolute Error (MAE) \"+str(mae_knn))\n",
    "print(\"Mean Squared Error (MSE) \"+str(mse_knn))\n",
    "print(\"R Squared \"+str(r2_knn))\n"
   ]
  },
  {
   "cell_type": "code",
   "execution_count": 93,
   "metadata": {},
   "outputs": [
    {
     "name": "stdout",
     "output_type": "stream",
     "text": [
      "Percentage of newly generated missing values: 0.8\n"
     ]
    },
    {
     "name": "stderr",
     "output_type": "stream",
     "text": [
      "/var/folders/_f/4gpz1vkd4x12810cr6067xc40000gn/T/ipykernel_33960/3871708711.py:16: UserWarning: Some row(s) contains only nan values.\n",
      "  warnings.warn('Some row(s) contains only nan values.')\n"
     ]
    },
    {
     "name": "stdout",
     "output_type": "stream",
     "text": [
      "\n",
      "KNN model\n",
      "Mean Absolute Error (MAE) 2.477389181066867\n",
      "Mean Squared Error (MSE) 8.76106076884548\n",
      "R Squared -0.31866593509153596\n"
     ]
    }
   ],
   "source": [
    "# KNN: Generate 80% of missing data\n",
    "X_train_missing_data = ampute_mcar(X_train, missing_rate = 0.8)\n",
    "\n",
    "#Convert NAN values into 0\n",
    "where_are_NaNs = isnan(X_train_missing_data)\n",
    "X_train_missing_data[where_are_NaNs] = 0\n",
    "\n",
    "# Train\n",
    "knn = KNeighborsRegressor()\n",
    "knn.fit(X_train_missing_data,y_train)\n",
    "\n",
    "# Test\n",
    "knn_prediction=knn.predict(X_test)\n",
    "\n",
    "# Output metrics\n",
    "mae_knn=mean_absolute_error(y_test,knn_prediction)\n",
    "mse_knn=mean_squared_error(y_test,knn_prediction)\n",
    "r2_knn=r2_score(y_test,knn_prediction)\n",
    "\n",
    "print(\"\\nKNN model\")\n",
    "print(\"Mean Absolute Error (MAE) \"+str(mae_knn))\n",
    "print(\"Mean Squared Error (MSE) \"+str(mse_knn))\n",
    "print(\"R Squared \"+str(r2_knn))\n"
   ]
  },
  {
   "cell_type": "markdown",
   "metadata": {},
   "source": [
    "# End"
   ]
  }
 ],
 "metadata": {
  "colab": {
   "provenance": []
  },
  "kernelspec": {
   "display_name": "Python (project-env)",
   "language": "python",
   "name": "project-env"
  },
  "language_info": {
   "codemirror_mode": {
    "name": "ipython",
    "version": 3
   },
   "file_extension": ".py",
   "mimetype": "text/x-python",
   "name": "python",
   "nbconvert_exporter": "python",
   "pygments_lexer": "ipython3",
   "version": "3.9.6"
  }
 },
 "nbformat": 4,
 "nbformat_minor": 4
}
