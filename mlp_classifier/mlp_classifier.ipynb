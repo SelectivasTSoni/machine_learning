{
 "cells": [
  {
   "cell_type": "markdown",
   "id": "8236a2cf-33e4-4107-9c22-ddd6e3ab5f9f",
   "metadata": {},
   "source": [
    "# Introduction\n",
    "This report describes the development process of a python-based machine learning program for detecting instances of network intrusion at the application layer. The program operates on the ASNM-TUN dataset available from [1]. This work very closely follows a project specification, notable aspects of which include:\n",
    "\n",
    "1. Development of a ML model\n",
    "2. Simple visualizations\n",
    "3. Optimal feature selection\n",
    "4. Presentation of methods, finding, and insights\n",
    "\n",
    "The document you are reading and most of the code it contains were created using stand-alone Jupyter Notebook [2]. It was formatted using Markdown as described in [3]. Environments like Anaconda ``navigator'' are not to this author's taste: they are too big, too commercialized, and too invasive. The Jupyter environment is convenient for developing small, experimental programs and has several convenient export options which can be extended using *pandoc* or something similiar. For the stand-alone .py file, we used a simple but powerful text editor called Sublime Text [4]. The environment used was also simple: a python virtual environment completely set up with one call each to *Python*, *pip*, *source*, and *Jupyter*, as follows:"
   ]
  },
  {
   "cell_type": "code",
   "execution_count": 201,
   "id": "27a69769-a3d6-48f7-9207-00a155e9ba56",
   "metadata": {},
   "outputs": [],
   "source": [
    "# > python3 -m venv venv\n",
    "# > source venv/bin/activate\n",
    "# > pip install jupyter pandas scikit-learn matplotlib"
   ]
  },
  {
   "cell_type": "markdown",
   "id": "00e28faa-149e-4856-a430-e422b0b73f51",
   "metadata": {},
   "source": [
    "Then to open Jupyter in our browser, we just call:"
   ]
  },
  {
   "cell_type": "code",
   "execution_count": 202,
   "id": "ad34821a-c0a3-4b9d-85a5-0e3a751d38d7",
   "metadata": {},
   "outputs": [],
   "source": [
    "# > jupyter notebook"
   ]
  },
  {
   "cell_type": "markdown",
   "id": "b5090738-3cc9-422a-985a-e3b6816c4e71",
   "metadata": {},
   "source": [
    "One of the greatest challenges this project posed was mysterious bug that caused the program run perfectly in Jupyter Notebook but failed terminate when the code was placed into a old-fashion .py file. Hours (and hours) were burned trying to discover the cause of the problem. It enventually was solved, but you will have to wait to find out how below.\n",
    "\n",
    "The included source code file, *project2.py*, is 196 lines long including the *shebang* line and comments. Most of the challenge here was mapping details from the spec to the library documentation and wrestling some obscurity in the same. Because *Sci-kit Learn* is so huge, knowing your way around the documentation is (at least) half the battle. This project was great opportunity to explore some aspects of the library previously unvisited.\n",
    "\n",
    "This rest of this report contains two sections: methodology, and conclusion. The code and its comments cover most of the project details. Extended comments are given where they seem helpful. The narrative is sparse by design. Most of what follows is library code from a well-documented libray called *Sci-kit Learn* [5]. There did not seem to be a need to rewrite major portions of that documentation in the name of reporting. The methodology section is structured along the same lines as the project specification following a set format of detailed requirements followed by appropriately commented code realizing those requirements. The brief conclusion gives some musings on the project and machine learning."
   ]
  },
  {
   "cell_type": "markdown",
   "id": "a054c487-e7f8-45f7-8270-12688da2ba57",
   "metadata": {},
   "source": [
    "# Methodology\n",
    "This section gives all the gory details, with the code and comments doing most of the explaining. The assumption of the author is that the reader is a reasonably-competent programmer who understands things like \"instantiate the object\" and \"rationalizing the denominator\" even though the last of these doesn't come up in what follows. The execution time of the code was variable and sometimes quite long, approaching 300 seconds. The real-world running times of programs is sort of interesting to the author so each block of our code includes a simple timing mechanism. The template for this is just below. "
   ]
  },
  {
   "cell_type": "code",
   "execution_count": 198,
   "id": "1defbb0e-0294-4545-94f5-5371f0df9b53",
   "metadata": {},
   "outputs": [],
   "source": [
    "# This is timer system:\n",
    "# start = time.time()\n",
    "# ...code goes here...\n",
    "# end = time.time()\n",
    "# print(f\"Runtime: {end - start:.4f} seconds\")\n",
    "\n",
    "# We import this here so we can use it immediately below.\n",
    "import time"
   ]
  },
  {
   "cell_type": "code",
   "execution_count": 184,
   "id": "e68a17f3-4d9e-4274-a767-d488ea1cf667",
   "metadata": {},
   "outputs": [
    {
     "name": "stdout",
     "output_type": "stream",
     "text": [
      "Runtime: 0.0006 seconds\n"
     ]
    }
   ],
   "source": [
    "# Start time for this block\n",
    "start = time.time()\n",
    "\n",
    "# Start time for total time.\n",
    "# this is matched at the bottom by\n",
    "# a t_end = time.time() as well as\n",
    "# the subtraction problem.\n",
    "t_start = time.time()\n",
    "\n",
    "# All the required modules get imported\n",
    "import pandas as pd\n",
    "import matplotlib.pyplot as plt\n",
    "import warnings\n",
    "import sys\n",
    "from sklearn.feature_selection import SequentialFeatureSelector\n",
    "from sklearn.metrics import accuracy_score, confusion_matrix, ConfusionMatrixDisplay\n",
    "from sklearn.model_selection import train_test_split, GridSearchCV\n",
    "from sklearn.neural_network import MLPClassifier\n",
    "from sklearn.pipeline import make_pipeline\n",
    "from sklearn.preprocessing import LabelEncoder, StandardScaler\n",
    "\n",
    "# this is a little hack to prevent a warning later on\n",
    "import warnings\n",
    "warnings.filterwarnings(\"ignore\", category=RuntimeWarning)\n",
    "\n",
    "end = time.time()\n",
    "print(f\"Runtime: {end - start:.4f} seconds\")\n"
   ]
  },
  {
   "cell_type": "markdown",
   "id": "929feb86-e8cf-41ee-b15f-9ae4b5f05cad",
   "metadata": {},
   "source": [
    "## Data pre-processing\n",
    "The list below is the first specification of project requirements. You will notice the code comments are very similar to the spec. The odd bits of text below the code blocks are program output.  \n",
    "\n",
    "### Project requirements:\n",
    "1. Load the dataset from the provided CSV file using pandas.\n",
    "2. Extract candidate features (see Dataset Features section) and labels (the two-class label/three-class label) from the dataset using DataFrame[<columns>]\n",
    "3. Encode labels if they are not numeric using LabelEncoder from sklearn.preprocessing.\n",
    "4. Normalize the features using StandardScaler from sklearn.preprocessing.\n"
   ]
  },
  {
   "cell_type": "code",
   "execution_count": 185,
   "id": "079e60f0-071c-4a14-a892-2fdaa7f7f2fc",
   "metadata": {},
   "outputs": [
    {
     "name": "stdout",
     "output_type": "stream",
     "text": [
      "Dataset loaded.\n",
      "Please be patient, expected run-time: 45 to 300 seconds! \n",
      "\n",
      "Runtime: 0.0918 seconds\n"
     ]
    }
   ],
   "source": [
    "start = time.time()\n",
    "# Load the dataset from the provided CSV file using pandas.\n",
    "try:\n",
    "    df = pd.read_csv(r'CSCI589_Proj2_data.csv')\n",
    "except FileNotFoundError:\n",
    "    print(\"Dataset not found. Make sure it's in the working directory.\")\n",
    "    sys.exit(1)\n",
    "\n",
    "if df.empty == False:\n",
    "    print(\"Dataset loaded.\")\n",
    "    print(\"Please be patient, expected run-time: 45 to 300 seconds! \\n\")\n",
    "\n",
    "end = time.time()\n",
    "print(f\"Runtime: {end - start:.4f} seconds\")"
   ]
  },
  {
   "cell_type": "code",
   "execution_count": 193,
   "id": "817e7522-8d66-4be8-bdce-3276e9d4f021",
   "metadata": {},
   "outputs": [
    {
     "name": "stdout",
     "output_type": "stream",
     "text": [
      "Runtime: 0.0065 seconds\n"
     ]
    }
   ],
   "source": [
    "start = time.time()\n",
    "# Extract candidate features\n",
    "X = df[[\"SigPktLenIn\",\"ConTcpFinCntIn\",\"ConTcpSynCntIn\",\n",
    "        \"InPktLen32s10i[0]\",\"InPktLen1s10i[2]\",\"InPktLen8s10i[7]\",\n",
    "        \"OutPktLen1s10i[0]\",\"FourGonAngleIn[9]\",\"InPktLen8s10i[1]\", \n",
    "        \"PolyInd8ordOut[5]\",\"PolyInd8ordIn[5]\",\"SumTTLIn\",\n",
    "        \"MedTTLOut\",\"MeanTTLIn\",\"SumPktOut\", \n",
    "        \"MedTCPHdrLen\",\"SigTTLOut\",\"SumPktLenIn\",\n",
    "        \"SigTdiff2PktsOut\",\"BytesPerSessOut\"]]\n",
    "\n",
    "# Extract non-numeric label_2\n",
    "y = df[\"label_2\"]\n",
    "\n",
    "# Encode labels using LabelEncoder from sklearn.preprocessing\n",
    "le = LabelEncoder() # Initialize the encoder\n",
    "y = le.fit_transform(y) # Fit and transform the data\n",
    "\n",
    "# Normalize the features using StandardScaler from sklearn.preprocessing\n",
    "scaler = StandardScaler()\n",
    "scaled = scaler.fit_transform(X)\n",
    "\n",
    "end = time.time()\n",
    "print(f\"Runtime: {end - start:.4f} seconds\")\n"
   ]
  },
  {
   "cell_type": "markdown",
   "id": "650b73da-021e-4e7e-961c-60849d184417",
   "metadata": {},
   "source": [
    "## Model training and testing\n",
    "Item two of the specification below talks about training the classifier with \"tuned hyperparameters.\" A parameter is value that gets learned from the data during training. A hyperparameter is a value outside the data that influences model training. How do we tune these? The specifics are not indicated in the spec but some reading reveals that *Sci-kit Learn* has six different hyper-parameter tuning algorithms. The one applied below is GridSearchCV which \"Exhaustive search over specified parameter values for an estimator.\" The CV in the name stands for Cross Validation. The technical details are shown in the code below.\n",
    "\n",
    "### Project requirements:\n",
    "1. Split the dataset into training and testing sets using train_test_split from sklearn.model_selection. (80% for training, and 20% for testing)\n",
    "2. Train an MLP classifier with tuned hyperparameters on the full dataset using MLPClassifier from sklearn.neural_network. (set hidden_layer_sizes=(128,32) is recommended)\n",
    "3. Test the classifier and evaluate its accuracy using accuracy_score from sklearn.metrics.\n",
    "4. Visualize the detection performance using confusion matrix."
   ]
  },
  {
   "cell_type": "code",
   "execution_count": 187,
   "id": "cbae6897-ef8f-4dcf-a398-abce8f4b0ac0",
   "metadata": {},
   "outputs": [
    {
     "name": "stdout",
     "output_type": "stream",
     "text": [
      "Runtime: 0.0902 seconds\n"
     ]
    }
   ],
   "source": [
    "start = time.time()\n",
    "# Make train/test split\n",
    "X_train, X_test, y_train, y_test = train_test_split(X, y, test_size=0.2, random_state=1)\n",
    "\n",
    "# Initialize an MLP Classifier\n",
    "mlp_full = MLPClassifier(activation='relu', \n",
    "                         alpha=0.0001, \n",
    "                         hidden_layer_sizes=(100,), \n",
    "                         learning_rate_init=0.01, \n",
    "                         solver='adam', \n",
    "                         random_state=1, \n",
    "                         verbose=False, \n",
    "                         early_stopping=True, \n",
    "                         max_iter=1000)\n",
    "\n",
    "# Train MLP using the training data. The fit() method is what does the training.\n",
    "mlp_full.fit(X_train, y_train)\n",
    "\n",
    "end = time.time()\n",
    "print(f\"Runtime: {end - start:.4f} seconds\")\n"
   ]
  },
  {
   "cell_type": "code",
   "execution_count": 188,
   "id": "959f6b74-eb87-4d12-a8e1-b184eb8ab8c0",
   "metadata": {},
   "outputs": [
    {
     "name": "stdout",
     "output_type": "stream",
     "text": [
      "Best parameters: \n",
      "     activation\n",
      "     alpha\n",
      "     hidden_layer_sizes\n",
      "     learning_rate_init\n",
      "     solver\n",
      "\n",
      " Best cross-validation score:\n",
      "     0.8634920634920634 \n",
      "\n",
      "Runtime: 31.5962 seconds\n"
     ]
    }
   ],
   "source": [
    "start = time.time()\n",
    "# Tune hyperparameters: find optimal parameters using grid search \n",
    "# This is pretty amazing... but it takes a while.\n",
    "parameter_grid = {\n",
    "   'activation': ['identity', 'logistic', 'tanh', 'relu'],\n",
    "   'alpha': [0.0001, 0.001],\n",
    "   'hidden_layer_sizes': [(128,32), (100,), (50, 50)],\n",
    "   'learning_rate_init': [0.001, 0.01],\n",
    "   'solver': ['sgd', 'adam'],\n",
    "}\n",
    "grid = GridSearchCV(mlp, parameter_grid, cv=5, scoring='accuracy')\n",
    "grid.fit(X_train, y_train)\n",
    "\n",
    "print(\"Best parameters: \")\n",
    "for i in grid.best_params_:\n",
    "    print('    ', i)\n",
    "\n",
    "print(\"\\n Best cross-validation score:\")\n",
    "print('    ', grid.best_score_, '\\n')\n",
    "\n",
    "# The crossgrid search for optimal parameters found:\n",
    "# Best parameters: {'activation': 'relu', \n",
    "#                   'alpha': 0.0001, \n",
    "#                   'hidden_layer_sizes': (100,), \n",
    "#                   'learning_rate_init': 0.01, \n",
    "#                   'solver': 'adam'}\n",
    "# Best cross-validation score: 0.8634920634920634\n",
    "# Note that hidden_layer_sizes difference from the suggestion in the assignment spec.\n",
    "\n",
    "end = time.time()\n",
    "print(f\"Runtime: {end - start:.4f} seconds\")\n"
   ]
  },
  {
   "cell_type": "code",
   "execution_count": 210,
   "id": "7ebde49c-a67b-4953-9902-84ef12c69fa7",
   "metadata": {},
   "outputs": [
    {
     "name": "stdout",
     "output_type": "stream",
     "text": [
      "Accuracy 1: 0.7974683544303798\n"
     ]
    },
    {
     "data": {
      "image/png": "[encoded data removed]",
      "text/plain": [
       "<Figure size 640x480 with 2 Axes>"
      ]
     },
     "metadata": {},
     "output_type": "display_data"
    },
    {
     "name": "stdout",
     "output_type": "stream",
     "text": [
      "Runtime: 0.3357 seconds\n"
     ]
    }
   ],
   "source": [
    "start = time.time()\n",
    "\n",
    "# Make predictions using the test data.\n",
    "# y_pred = mlp.predict(X_test)\n",
    "# Alternatively, we can use the results of the grid search:\n",
    "y_pred = grid.best_estimator_.predict(X_test)\n",
    "\n",
    "# Evaluate the model for accuracy\n",
    "accuracy1 = accuracy_score(y_test, y_pred)\n",
    "print(f\"Accuracy 1: {accuracy1}\")\n",
    "\n",
    "# Visualize detection performance using a confusion matrix\n",
    "# Ground truth, or 'y_true' is the labelled test data.\n",
    "cm = confusion_matrix(y_test, y_pred, labels=mlp_full.classes_) \n",
    "disp = ConfusionMatrixDisplay(confusion_matrix=cm, display_labels=mlp2.classes_)\n",
    "fig, ax = plt.subplots()\n",
    "\n",
    "# This creates the plot\n",
    "disp.plot(ax=ax)\n",
    "\n",
    "# Saves image to current directory\n",
    "# Must save before showing!\n",
    "plt.savefig('output_figure_from_jupyter.png', bbox_inches='tight')\n",
    "\n",
    "# This makes figure pop-up on the screen\n",
    "plt.show()\n",
    "\n",
    "end = time.time()\n",
    "print(f\"Runtime: {end - start:.4f} seconds\")\n"
   ]
  },
  {
   "cell_type": "markdown",
   "id": "0c203308-90ab-4689-bc9f-d9dd0eb5e7cd",
   "metadata": {},
   "source": [
    "## Optimal feature selection\n",
    "Optimal feature selection is parameter tuning because the features are in the data. This step is caused a mysterious bug to appear. While the code ran perfectly in Jupyter, the progam would not proceed past this pointin a stand-alone .py file. It looked like an excessively long run time, and that was how I attacked it. You will notice comments in the code below metioning \"optimizations.\" It was maddening to have code working perfectly here and not working there. This hard-to-find error prompted me to include chatGPT into my debugging process. As soon as I mentioned the code worked in Jupyter but not in the .py, the AI immediately discovered the problem and suggested a fix which worked perfectly. \n",
    "\n",
    "The problems was that SequentialFeatureSelector is a multi-threaded process. For reasons that are not perfectly clear, multi-threaded processes must be wrapped in a function and \"protected\" by an `if __name__ == \"__main__\":` block [6]. The final form of our working code is shown below."
   ]
  },
  {
   "cell_type": "code",
   "execution_count": 207,
   "id": "c40dd9eb-422a-41ee-96ff-f315b30fc778",
   "metadata": {},
   "outputs": [],
   "source": [
    "# define a wrapper function\n",
    "def main():\n",
    "    # All code in \n",
    "    # the script goes\n",
    "    # inside this function\n",
    "\n",
    "\n",
    "if __name__ == \"__main__\":\n",
    "    main()"
   ]
  },
  {
   "cell_type": "markdown",
   "id": "dc4db7b9-d268-485b-bdd3-96711729756c",
   "metadata": {},
   "source": [
    "Interestingly, the only mention of this requirement is found in Python's multi-processing module documentation and it is a little obscure. For multi-processing see [some details here](https://docs.python.org/3/library/multiprocessing.html). The wrapper requirement for multi-threaded code find [specific details here](https://docs.python.org/3/library/multiprocessing.html#multiprocessing-programming) [7]. Note that this is the only place this gets gets mentioned. There would have been no way I could have known the cause of this problem on my own. ChatGPT saved me hours of searching Stackoverflow for arcane answers. An AI generated summary of my interaction with chatGPT has been submitted as a separate .pdf file. By way of commentary: Now that I have used an AI in a development workflow, I will never go without it.\n",
    "\n",
    "With the mysterious problem solved, the remaining requirements for this section of the project were fairly straight-forward. To print the selected features we used a loop with `print()` so as to not output the unsightly dictionary.\n",
    "\n",
    "### Project requirements:\n",
    "1. Leverage Forward Feature Selection (FFS) technique to select a subset of features from all the feature candidates (i.e., the features listed in the Dataset Features section). Set n_features_to_select=9 to include only 9 features in the new subset.\n",
    "2. Print the selected features (Hint: see “support_” attribute in FFS documentation)"
   ]
  },
  {
   "cell_type": "code",
   "execution_count": 208,
   "id": "e8ac0997-bf14-474f-8c67-50b5b1dd2e3d",
   "metadata": {},
   "outputs": [
    {
     "name": "stdout",
     "output_type": "stream",
     "text": [
      "Selected features: \n",
      "     ConTcpFinCntIn\n",
      "     ConTcpSynCntIn\n",
      "     InPktLen8s10i[7]\n",
      "     FourGonAngleIn[9]\n",
      "     MedTTLOut\n",
      "     MeanTTLIn\n",
      "     SumPktOut\n",
      "     SigTTLOut\n",
      "     SigTdiff2PktsOut\n",
      "Runtime: 13.5684 seconds\n"
     ]
    }
   ],
   "source": [
    "start = time.time()\n",
    "# Using SequentialFeatureSelector from scikit-learn\n",
    "# To make reduce runtime, we add two optimizations:\n",
    "# \t1. reduce the value of cv from 5 to 3\n",
    "#\t2. add n_jobs=-1 to use all CPU cores\n",
    "ffs = SequentialFeatureSelector(mlp_full, n_features_to_select=9, tol=None, direction='forward', scoring=None, cv=3, n_jobs=-1)\n",
    "\n",
    "# fit returns self, the SFS object itself\n",
    "ffs.fit(X_train, y_train)\n",
    "\n",
    "# print selected features using get_support()\n",
    "selected_mask = ffs.get_support()\n",
    "selected_features = X_train.columns[selected_mask]\n",
    "print(\"Selected features: \")\n",
    "for i in selected_features:\n",
    "    print('    ', i)\n",
    "\n",
    "end = time.time()\n",
    "print(f\"Runtime: {end - start:.4f} seconds\")\n"
   ]
  },
  {
   "cell_type": "markdown",
   "id": "b5238053-c144-4c92-b7dc-19df4e9e1fef",
   "metadata": {},
   "source": [
    "## Model training using the selected subset\n",
    "1. Split the sub-dataset into training and testing sets. (80% - training, 20% - testing)\n",
    "2. Train a new MLP classifier on the sub-dataset.\n",
    "3. Test the classifier and evaluate its accuracy.\n",
    "4. Visualize the detection performance using confusion matrix."
   ]
  },
  {
   "cell_type": "code",
   "execution_count": 211,
   "id": "04c6699c-0069-4a90-9e83-eea57d1f22c3",
   "metadata": {},
   "outputs": [
    {
     "name": "stdout",
     "output_type": "stream",
     "text": [
      "Accuracy 2: 0.7974683544303798\n",
      "Runtime: 0.6051 seconds\n",
      "Total Runtime: 37884.4910 seconds\n",
      "Difference, (accuracy1 - accuracy2): 0.0\n",
      "The values of accuracy1 and accuracy2 are the same!\n"
     ]
    }
   ],
   "source": [
    "start = time.time()\n",
    "\n",
    "# make the transformation\n",
    "X_train_selected = ffs.transform(X_train)\n",
    "X_test_selected = ffs.transform(X_test)\n",
    "\n",
    "# train model on selected features\n",
    "mlp_reduced = MLPClassifier(random_state=42, max_iter=1000)\n",
    "mlp_reduced.fit(X_train_selected, y_train)\n",
    "\n",
    "y_pred = mlp_reduced.predict(X_test_selected)\n",
    "\n",
    "# Evaluate the model for accuracy\n",
    "accuracy2 = accuracy_score(y_test, y_pred)\n",
    "print(f\"Accuracy 2: {accuracy2}\")\n",
    "\n",
    "# sub-time\n",
    "end = time.time()\n",
    "print(f\"Runtime: {end - start:.4f} seconds\")\n",
    "\n",
    "# total time\n",
    "t_end = time.time()\n",
    "print(f\"Total Runtime: {t_end - t_start:.4f} seconds\")\n",
    "\n",
    "dif = accuracy1 - accuracy2\n",
    "\n",
    "if dif == 0:\n",
    "    print(f\"Difference, (accuracy1 - accuracy2): {dif}\")\n",
    "    print(\"The values of accuracy1 and accuracy2 are the same!\")\n",
    "else:\n",
    "    print(f\"Difference, (accuracy1 - accuracy2): {dif}\")"
   ]
  },
  {
   "cell_type": "markdown",
   "id": "405e7228-d73b-46f6-af2d-a72816abe8d7",
   "metadata": {},
   "source": [
    "Note the accuracy of the model is the same whether using the full or reduced feature set. \n"
   ]
  },
  {
   "cell_type": "markdown",
   "id": "f9a0a220-b213-4fc0-965d-e36a09d1e4c3",
   "metadata": {},
   "source": [
    "# Conclusion\n",
    "Though our code ran fine and achieved a some result, the accuracy of 79.7468% is not very good. We used two of the optimization tools built into *Scikit-learn*: GridSearchCV and SequentialFeatureSelector. In a real-world environment, the optimal maching learning model for this application and its parameters and options would be determined by experimentation. For instance, the Random Forest classifier may perform better then the MLP. There are many options available and what works best in a given context must be discovered by the researchers in that context. Because the underlying mathematics and myriad options available, ML models are complicated and get treated as block-boxes, which is probably okay. The underlaying mathematical abstractions are hard to relate to real-world data without experimentation. \n",
    "\n",
    "As an opportunity for future research into ML models on network data is a systematic analysis of all the classifiers and all the optimizers available in *Scikit-learn* to get to the solid truth of what is the optimal classifier. An undertaking like this would be frought with challenges ranging the massive quantity of junk papers touching on this topic, to varitions in the network data across environments. We could go on about this, but will refrain.\n",
    "\n",
    "As usual in courses taught by Dr. Zhang, this project was an excellent learning experience. It was a fun oportunity to set up some environments, play with the code, navigate around the documentation of a pre-eminent ML library, and struggle with some mysterious issues. It was a little dissappointing to see such a low accuracy score. Once I decided to use Jupyter Notebook for my report, the requirement for separate .py file was a little bit annoying but this isssue is multi-facted. I think an ideal balance would be along the lines of a code and write in Jupyter, export to .py for submission. If I where the instructor, I would automate the running and grading of the submitted code files and specify my assignments to easily accomodate the same."
   ]
  },
  {
   "cell_type": "markdown",
   "id": "cf4cd613-06e2-4627-b9eb-345561d26116",
   "metadata": {},
   "source": [
    "# References\n",
    "[1] I. Homoliak, “ASNM Datasets: A Collection of Network Traffic Data for Testing of Adversarial Classifiers and Network Intrusion Detectors.” IEEE, Nov. 03, 2019. Accessed: Apr. 13, 2025. [Online]. Available: <https://ieee-dataport.org/open-access/asnm-datasets-collection-network-traffic-data-testing-adversarial-classifiers-and>\n",
    "\n",
    "[2] “Installing the classic Jupyter Notebook interface — Jupyter Documentation 4.1.1 alpha documentation.” Accessed: Apr. 13, 2025. [Online]. Available: <https://docs.jupyter.org/en/latest/install/notebook-classic.html#alternative-for-experienced-python-users-installing-jupyter-with-pip>\n",
    "\n",
    "[3] “Basic Syntax | Markdown Guide.” Accessed: Apr. 13, 2025. [Online]. Available: <https://www.markdownguide.org/basic-syntax/>\n",
    "\n",
    "[4] “Sublime Text - the sophisticated text editor for code, markup and prose.” Accessed: Apr. 13, 2025. [Online]. Available: <https://www.sublimetext.com/>\n",
    "\n",
    "[5] “scikit-learn: machine learning in Python — scikit-learn 1.6.1 documentation.” Accessed: Apr. 13, 2025. [Online]. Available: <https://scikit-learn.org/stable/index.html>\n",
    "\n",
    "[6] “ChatGPT.” Accessed: Apr. 13, 2025. [Online]. Available: <https://chatgpt.com>\n",
    "\n",
    "[7] “multiprocessing — Process-based parallelism,” Python documentation. Accessed: Apr. 13, 2025. [Online]. Available: <https://docs.python.org/3/library/multiprocessing.html>\n"
   ]
  }
 ],
 "metadata": {
  "kernelspec": {
   "display_name": "Python 3 (ipykernel)",
   "language": "python",
   "name": "python3"
  },
  "language_info": {
   "codemirror_mode": {
    "name": "ipython",
    "version": 3
   },
   "file_extension": ".py",
   "mimetype": "text/x-python",
   "name": "python",
   "nbconvert_exporter": "python",
   "pygments_lexer": "ipython3",
   "version": "3.9.6"
  }
 },
 "nbformat": 4,
 "nbformat_minor": 5
}
