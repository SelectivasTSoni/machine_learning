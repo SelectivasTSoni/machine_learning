{
 "cells": [
  {
   "cell_type": "markdown",
   "id": "d39eb99a-fcd4-453d-a2d3-34b067d52e28",
   "metadata": {
    "id": "d39eb99a-fcd4-453d-a2d3-34b067d52e28",
    "tags": []
   },
   "source": [
    "## Data Cleaning/Mining\n",
    "\n",
    "Most of the real-world data, that the data scientist work with, are raw data, meaning that it can contain repeated, missing, and irrelevant entries of information. Hence, if this data is used in any machine learning analysis, it will result in low accuracy or incorrect prediction. For this reason, data cleaning, also known as data cleansing, is an important technique that comes prior to any model building.\n",
    "\n",
    "Datasets can have categorical (typically string), numerical (typically int or float), and/or a combination of the two. Data cleansing methods for each dataset and its features may be different and hence a knowledge of appropriate methods to handle such data is important.\n",
    "\n",
    "## Objectives\n",
    "\n",
    "After completing this lab you will be able to:\n",
    "\n",
    "*   Handle duplicates\n",
    "*   Handle missing values\n",
    "*   Encode categorical data\n",
    "*   Handle the outliers\n",
    "\n"
   ]
  },
  {
   "cell_type": "markdown",
   "id": "91fcfb6c-bc1f-48c0-8604-c0094ffa7995",
   "metadata": {
    "id": "91fcfb6c-bc1f-48c0-8604-c0094ffa7995"
   },
   "source": [
    "For this lab, we will be using the following libraries:\n",
    " - [`pandas`] for managing the data.\n"
   ]
  },
  {
   "cell_type": "markdown",
   "id": "4c275c2f-f7c8-41dc-a47d-44224b93892f",
   "metadata": {
    "id": "4c275c2f-f7c8-41dc-a47d-44224b93892f",
    "tags": []
   },
   "source": [
    "## **Import Libraries**\n"
   ]
  },
  {
   "cell_type": "code",
   "execution_count": 1,
   "id": "44fffd48-d277-4d17-8e7b-4be3dc442cea",
   "metadata": {
    "id": "44fffd48-d277-4d17-8e7b-4be3dc442cea"
   },
   "outputs": [],
   "source": [
    "import pandas as pd\n",
    "import missingno as msno"
   ]
  },
  {
   "cell_type": "markdown",
   "id": "69a5db97-1a48-4686-bb66-fbd43856c357",
   "metadata": {
    "id": "69a5db97-1a48-4686-bb66-fbd43856c357",
    "tags": []
   },
   "source": [
    "## **I. Reading and Understanding the Data**\n"
   ]
  },
  {
   "cell_type": "code",
   "execution_count": 2,
   "id": "eed195ec-54ed-473c-8e37-e2c311431f15",
   "metadata": {
    "colab": {
     "base_uri": "https://localhost:8080/",
     "height": 206
    },
    "id": "eed195ec-54ed-473c-8e37-e2c311431f15",
    "outputId": "83c85732-9384-456d-9210-a896e75fc302",
    "tags": []
   },
   "outputs": [
    {
     "data": {
      "application/vnd.google.colaboratory.intrinsic+json": {
       "summary": "{\n  \"name\": \"ds\",\n  \"rows\": 89904,\n  \"fields\": [\n    {\n      \"column\": \"Email date (UTC)\",\n      \"properties\": {\n        \"dtype\": \"object\",\n        \"num_unique_values\": 19249,\n        \"samples\": [\n          \"10/20/2023 17:00\",\n          \"10/23/2023 12:01\",\n          \"10/18/2023 9:19\"\n        ],\n        \"semantic_type\": \"\",\n        \"description\": \"\"\n      }\n    },\n    {\n      \"column\": \"Sender domain\",\n      \"properties\": {\n        \"dtype\": \"category\",\n        \"num_unique_values\": 7003,\n        \"samples\": [\n          \"caa.columbia.edu\",\n          \"reply.mheducation.com\",\n          \"arcis.life\"\n        ],\n        \"semantic_type\": \"\",\n        \"description\": \"\"\n      }\n    },\n    {\n      \"column\": \"Delivery action\",\n      \"properties\": {\n        \"dtype\": \"category\",\n        \"num_unique_values\": 4,\n        \"samples\": [\n          \"Blocked\",\n          \"5\",\n          \"Delivered to junk\"\n        ],\n        \"semantic_type\": \"\",\n        \"description\": \"\"\n      }\n    },\n    {\n      \"column\": \"Threats\",\n      \"properties\": {\n        \"dtype\": \"category\",\n        \"num_unique_values\": 4,\n        \"samples\": [\n          \"Phish\",\n          \"Malware, Phish\",\n          \"Phish, Spam\"\n        ],\n        \"semantic_type\": \"\",\n        \"description\": \"\"\n      }\n    },\n    {\n      \"column\": \"Phish confidence level\",\n      \"properties\": {\n        \"dtype\": \"category\",\n        \"num_unique_values\": 2,\n        \"samples\": [\n          \"High\",\n          \"Normal\"\n        ],\n        \"semantic_type\": \"\",\n        \"description\": \"\"\n      }\n    },\n    {\n      \"column\": \"Recipient tags\",\n      \"properties\": {\n        \"dtype\": \"category\",\n        \"num_unique_values\": 18,\n        \"samples\": [\n          \"UND A6\",\n          \"UND A2|UND A1|UND A6\"\n        ],\n        \"semantic_type\": \"\",\n        \"description\": \"\"\n      }\n    }\n  ]\n}",
       "type": "dataframe",
       "variable_name": "ds"
      },
      "text/html": [
       "\n",
       "  <div id=\"df-1cded13f-5058-451a-8de9-2c6bcb18f1e7\" class=\"colab-df-container\">\n",
       "    <div>\n",
       "<style scoped>\n",
       "    .dataframe tbody tr th:only-of-type {\n",
       "        vertical-align: middle;\n",
       "    }\n",
       "\n",
       "    .dataframe tbody tr th {\n",
       "        vertical-align: top;\n",
       "    }\n",
       "\n",
       "    .dataframe thead th {\n",
       "        text-align: right;\n",
       "    }\n",
       "</style>\n",
       "<table border=\"1\" class=\"dataframe\">\n",
       "  <thead>\n",
       "    <tr style=\"text-align: right;\">\n",
       "      <th></th>\n",
       "      <th>Email date (UTC)</th>\n",
       "      <th>Sender domain</th>\n",
       "      <th>Delivery action</th>\n",
       "      <th>Threats</th>\n",
       "      <th>Phish confidence level</th>\n",
       "      <th>Recipient tags</th>\n",
       "    </tr>\n",
       "  </thead>\n",
       "  <tbody>\n",
       "    <tr>\n",
       "      <th>0</th>\n",
       "      <td>10/30/2023 13:32</td>\n",
       "      <td>ultalabtests.com</td>\n",
       "      <td>Delivered to junk</td>\n",
       "      <td>Phish, Spam</td>\n",
       "      <td>Normal</td>\n",
       "      <td>UND A6</td>\n",
       "    </tr>\n",
       "    <tr>\n",
       "      <th>1</th>\n",
       "      <td>10/30/2023 13:31</td>\n",
       "      <td>newsletter.first-avenue.com</td>\n",
       "      <td>Blocked</td>\n",
       "      <td>Phish, Spam</td>\n",
       "      <td>High</td>\n",
       "      <td>UND A2|UND A1|UND A6</td>\n",
       "    </tr>\n",
       "    <tr>\n",
       "      <th>2</th>\n",
       "      <td>10/30/2023 13:31</td>\n",
       "      <td>ioppublishing.org</td>\n",
       "      <td>Delivered to junk</td>\n",
       "      <td>Phish, Spam</td>\n",
       "      <td>Normal</td>\n",
       "      <td>UND A1</td>\n",
       "    </tr>\n",
       "    <tr>\n",
       "      <th>3</th>\n",
       "      <td>10/30/2023 13:31</td>\n",
       "      <td>ioppublishing.org</td>\n",
       "      <td>Delivered to junk</td>\n",
       "      <td>Phish, Spam</td>\n",
       "      <td>Normal</td>\n",
       "      <td>UND A1</td>\n",
       "    </tr>\n",
       "    <tr>\n",
       "      <th>4</th>\n",
       "      <td>10/30/2023 13:31</td>\n",
       "      <td>ioppublishing.org</td>\n",
       "      <td>Delivered to junk</td>\n",
       "      <td>Phish, Spam</td>\n",
       "      <td>Normal</td>\n",
       "      <td>UND A6</td>\n",
       "    </tr>\n",
       "  </tbody>\n",
       "</table>\n",
       "</div>\n",
       "    <div class=\"colab-df-buttons\">\n",
       "\n",
       "  <div class=\"colab-df-container\">\n",
       "    <button class=\"colab-df-convert\" onclick=\"convertToInteractive('df-1cded13f-5058-451a-8de9-2c6bcb18f1e7')\"\n",
       "            title=\"Convert this dataframe to an interactive table.\"\n",
       "            style=\"display:none;\">\n",
       "\n",
       "  <svg xmlns=\"http://www.w3.org/2000/svg\" height=\"24px\" viewBox=\"0 -960 960 960\">\n",
       "    <path d=\"M120-120v-720h720v720H120Zm60-500h600v-160H180v160Zm220 220h160v-160H400v160Zm0 220h160v-160H400v160ZM180-400h160v-160H180v160Zm440 0h160v-160H620v160ZM180-180h160v-160H180v160Zm440 0h160v-160H620v160Z\"/>\n",
       "  </svg>\n",
       "    </button>\n",
       "\n",
       "  <style>\n",
       "    .colab-df-container {\n",
       "      display:flex;\n",
       "      gap: 12px;\n",
       "    }\n",
       "\n",
       "    .colab-df-convert {\n",
       "      background-color: #E8F0FE;\n",
       "      border: none;\n",
       "      border-radius: 50%;\n",
       "      cursor: pointer;\n",
       "      display: none;\n",
       "      fill: #1967D2;\n",
       "      height: 32px;\n",
       "      padding: 0 0 0 0;\n",
       "      width: 32px;\n",
       "    }\n",
       "\n",
       "    .colab-df-convert:hover {\n",
       "      background-color: #E2EBFA;\n",
       "      box-shadow: 0px 1px 2px rgba(60, 64, 67, 0.3), 0px 1px 3px 1px rgba(60, 64, 67, 0.15);\n",
       "      fill: #174EA6;\n",
       "    }\n",
       "\n",
       "    .colab-df-buttons div {\n",
       "      margin-bottom: 4px;\n",
       "    }\n",
       "\n",
       "    [theme=dark] .colab-df-convert {\n",
       "      background-color: #3B4455;\n",
       "      fill: #D2E3FC;\n",
       "    }\n",
       "\n",
       "    [theme=dark] .colab-df-convert:hover {\n",
       "      background-color: #434B5C;\n",
       "      box-shadow: 0px 1px 3px 1px rgba(0, 0, 0, 0.15);\n",
       "      filter: drop-shadow(0px 1px 2px rgba(0, 0, 0, 0.3));\n",
       "      fill: #FFFFFF;\n",
       "    }\n",
       "  </style>\n",
       "\n",
       "    <script>\n",
       "      const buttonEl =\n",
       "        document.querySelector('#df-1cded13f-5058-451a-8de9-2c6bcb18f1e7 button.colab-df-convert');\n",
       "      buttonEl.style.display =\n",
       "        google.colab.kernel.accessAllowed ? 'block' : 'none';\n",
       "\n",
       "      async function convertToInteractive(key) {\n",
       "        const element = document.querySelector('#df-1cded13f-5058-451a-8de9-2c6bcb18f1e7');\n",
       "        const dataTable =\n",
       "          await google.colab.kernel.invokeFunction('convertToInteractive',\n",
       "                                                    [key], {});\n",
       "        if (!dataTable) return;\n",
       "\n",
       "        const docLinkHtml = 'Like what you see? Visit the ' +\n",
       "          '<a target=\"_blank\" href=https://colab.research.google.com/notebooks/data_table.ipynb>data table notebook</a>'\n",
       "          + ' to learn more about interactive tables.';\n",
       "        element.innerHTML = '';\n",
       "        dataTable['output_type'] = 'display_data';\n",
       "        await google.colab.output.renderOutput(dataTable, element);\n",
       "        const docLink = document.createElement('div');\n",
       "        docLink.innerHTML = docLinkHtml;\n",
       "        element.appendChild(docLink);\n",
       "      }\n",
       "    </script>\n",
       "  </div>\n",
       "\n",
       "\n",
       "<div id=\"df-52f23519-d5a0-4c31-9725-91084b9eb11c\">\n",
       "  <button class=\"colab-df-quickchart\" onclick=\"quickchart('df-52f23519-d5a0-4c31-9725-91084b9eb11c')\"\n",
       "            title=\"Suggest charts\"\n",
       "            style=\"display:none;\">\n",
       "\n",
       "<svg xmlns=\"http://www.w3.org/2000/svg\" height=\"24px\"viewBox=\"0 0 24 24\"\n",
       "     width=\"24px\">\n",
       "    <g>\n",
       "        <path d=\"M19 3H5c-1.1 0-2 .9-2 2v14c0 1.1.9 2 2 2h14c1.1 0 2-.9 2-2V5c0-1.1-.9-2-2-2zM9 17H7v-7h2v7zm4 0h-2V7h2v10zm4 0h-2v-4h2v4z\"/>\n",
       "    </g>\n",
       "</svg>\n",
       "  </button>\n",
       "\n",
       "<style>\n",
       "  .colab-df-quickchart {\n",
       "      --bg-color: #E8F0FE;\n",
       "      --fill-color: #1967D2;\n",
       "      --hover-bg-color: #E2EBFA;\n",
       "      --hover-fill-color: #174EA6;\n",
       "      --disabled-fill-color: #AAA;\n",
       "      --disabled-bg-color: #DDD;\n",
       "  }\n",
       "\n",
       "  [theme=dark] .colab-df-quickchart {\n",
       "      --bg-color: #3B4455;\n",
       "      --fill-color: #D2E3FC;\n",
       "      --hover-bg-color: #434B5C;\n",
       "      --hover-fill-color: #FFFFFF;\n",
       "      --disabled-bg-color: #3B4455;\n",
       "      --disabled-fill-color: #666;\n",
       "  }\n",
       "\n",
       "  .colab-df-quickchart {\n",
       "    background-color: var(--bg-color);\n",
       "    border: none;\n",
       "    border-radius: 50%;\n",
       "    cursor: pointer;\n",
       "    display: none;\n",
       "    fill: var(--fill-color);\n",
       "    height: 32px;\n",
       "    padding: 0;\n",
       "    width: 32px;\n",
       "  }\n",
       "\n",
       "  .colab-df-quickchart:hover {\n",
       "    background-color: var(--hover-bg-color);\n",
       "    box-shadow: 0 1px 2px rgba(60, 64, 67, 0.3), 0 1px 3px 1px rgba(60, 64, 67, 0.15);\n",
       "    fill: var(--button-hover-fill-color);\n",
       "  }\n",
       "\n",
       "  .colab-df-quickchart-complete:disabled,\n",
       "  .colab-df-quickchart-complete:disabled:hover {\n",
       "    background-color: var(--disabled-bg-color);\n",
       "    fill: var(--disabled-fill-color);\n",
       "    box-shadow: none;\n",
       "  }\n",
       "\n",
       "  .colab-df-spinner {\n",
       "    border: 2px solid var(--fill-color);\n",
       "    border-color: transparent;\n",
       "    border-bottom-color: var(--fill-color);\n",
       "    animation:\n",
       "      spin 1s steps(1) infinite;\n",
       "  }\n",
       "\n",
       "  @keyframes spin {\n",
       "    0% {\n",
       "      border-color: transparent;\n",
       "      border-bottom-color: var(--fill-color);\n",
       "      border-left-color: var(--fill-color);\n",
       "    }\n",
       "    20% {\n",
       "      border-color: transparent;\n",
       "      border-left-color: var(--fill-color);\n",
       "      border-top-color: var(--fill-color);\n",
       "    }\n",
       "    30% {\n",
       "      border-color: transparent;\n",
       "      border-left-color: var(--fill-color);\n",
       "      border-top-color: var(--fill-color);\n",
       "      border-right-color: var(--fill-color);\n",
       "    }\n",
       "    40% {\n",
       "      border-color: transparent;\n",
       "      border-right-color: var(--fill-color);\n",
       "      border-top-color: var(--fill-color);\n",
       "    }\n",
       "    60% {\n",
       "      border-color: transparent;\n",
       "      border-right-color: var(--fill-color);\n",
       "    }\n",
       "    80% {\n",
       "      border-color: transparent;\n",
       "      border-right-color: var(--fill-color);\n",
       "      border-bottom-color: var(--fill-color);\n",
       "    }\n",
       "    90% {\n",
       "      border-color: transparent;\n",
       "      border-bottom-color: var(--fill-color);\n",
       "    }\n",
       "  }\n",
       "</style>\n",
       "\n",
       "  <script>\n",
       "    async function quickchart(key) {\n",
       "      const quickchartButtonEl =\n",
       "        document.querySelector('#' + key + ' button');\n",
       "      quickchartButtonEl.disabled = true;  // To prevent multiple clicks.\n",
       "      quickchartButtonEl.classList.add('colab-df-spinner');\n",
       "      try {\n",
       "        const charts = await google.colab.kernel.invokeFunction(\n",
       "            'suggestCharts', [key], {});\n",
       "      } catch (error) {\n",
       "        console.error('Error during call to suggestCharts:', error);\n",
       "      }\n",
       "      quickchartButtonEl.classList.remove('colab-df-spinner');\n",
       "      quickchartButtonEl.classList.add('colab-df-quickchart-complete');\n",
       "    }\n",
       "    (() => {\n",
       "      let quickchartButtonEl =\n",
       "        document.querySelector('#df-52f23519-d5a0-4c31-9725-91084b9eb11c button');\n",
       "      quickchartButtonEl.style.display =\n",
       "        google.colab.kernel.accessAllowed ? 'block' : 'none';\n",
       "    })();\n",
       "  </script>\n",
       "</div>\n",
       "\n",
       "    </div>\n",
       "  </div>\n"
      ],
      "text/plain": [
       "   Email date (UTC)                Sender domain    Delivery action  \\\n",
       "0  10/30/2023 13:32             ultalabtests.com  Delivered to junk   \n",
       "1  10/30/2023 13:31  newsletter.first-avenue.com            Blocked   \n",
       "2  10/30/2023 13:31            ioppublishing.org  Delivered to junk   \n",
       "3  10/30/2023 13:31            ioppublishing.org  Delivered to junk   \n",
       "4  10/30/2023 13:31            ioppublishing.org  Delivered to junk   \n",
       "\n",
       "       Threats Phish confidence level        Recipient tags  \n",
       "0  Phish, Spam                 Normal                UND A6  \n",
       "1  Phish, Spam                   High  UND A2|UND A1|UND A6  \n",
       "2  Phish, Spam                 Normal                UND A1  \n",
       "3  Phish, Spam                 Normal                UND A1  \n",
       "4  Phish, Spam                 Normal                UND A6  "
      ]
     },
     "execution_count": 2,
     "metadata": {},
     "output_type": "execute_result"
    }
   ],
   "source": [
    "## Insert code to read the dataset\n",
    "\n",
    "ds = pd.read_csv(\"wk5_data.csv\")\n",
    "\n",
    "# Finding the first ten rows of the dataset\n",
    "ds.head(5)"
   ]
  },
  {
   "cell_type": "code",
   "execution_count": 3,
   "id": "6536cc6a-91b7-45f9-b243-3721e8a3d9ee",
   "metadata": {
    "colab": {
     "base_uri": "https://localhost:8080/"
    },
    "id": "6536cc6a-91b7-45f9-b243-3721e8a3d9ee",
    "outputId": "178234dd-7a22-43e5-bd3c-ec0471f847e3",
    "tags": []
   },
   "outputs": [
    {
     "name": "stdout",
     "output_type": "stream",
     "text": [
      "<class 'pandas.core.frame.DataFrame'>\n",
      "RangeIndex: 89904 entries, 0 to 89903\n",
      "Data columns (total 6 columns):\n",
      " #   Column                  Non-Null Count  Dtype \n",
      "---  ------                  --------------  ----- \n",
      " 0   Email date (UTC)        89904 non-null  object\n",
      " 1   Sender domain           89898 non-null  object\n",
      " 2   Delivery action         89904 non-null  object\n",
      " 3   Threats                 89904 non-null  object\n",
      " 4   Phish confidence level  89904 non-null  object\n",
      " 5   Recipient tags          89904 non-null  object\n",
      "dtypes: object(6)\n",
      "memory usage: 4.1+ MB\n",
      "\n",
      "\n",
      "null values in 'Sender domain': 6\n"
     ]
    }
   ],
   "source": [
    "# Find out more about your dataset (e.g., no. of rows, data types)\n",
    "\n",
    "ds.info()\n",
    "\n",
    "# Display the dimensions of your dataset in the format --> (rows, columns)\n",
    "ds.shape\n",
    "\n",
    "sum = ds[\"Sender domain\"].isnull().sum()\n",
    "print(\"\\n\")\n",
    "print(\"null values in 'Sender domain': {}\".format(sum))"
   ]
  },
  {
   "cell_type": "code",
   "execution_count": 4,
   "id": "00655eb7-adc1-4788-9a46-8fbe1ac1965d",
   "metadata": {
    "colab": {
     "base_uri": "https://localhost:8080/"
    },
    "id": "00655eb7-adc1-4788-9a46-8fbe1ac1965d",
    "outputId": "7130602b-f536-48ad-c69e-50abb5f2578f",
    "tags": []
   },
   "outputs": [
    {
     "name": "stdout",
     "output_type": "stream",
     "text": [
      "Unique values in 'Sender domain' column: 7004\n"
     ]
    }
   ],
   "source": [
    "# Identifying unique values within the \"Threats\" and \"Delivery action\" features\n",
    "\n",
    "da_values = ds['Delivery action'].unique().tolist()\n",
    "threats_values = ds['Threats'].unique().tolist()\n",
    "\n",
    "## Insert code to identify unique values for the remaining features (i.e.., Phish Confidence Level, Sender domain, and Recipient tags)\n",
    "phish_con_lvl_values = ds['Phish confidence level'].unique().tolist()\n",
    "sender_dom_values = ds['Sender domain'].unique().tolist()\n",
    "recip_values = ds['Recipient tags'].unique().tolist()\n",
    "\n",
    "## Insert code to display the no. of domains (i.e., unique values) in the Sender domain column\n",
    "print(\"Unique values in 'Sender domain' column: {}\".format(len(sender_dom_values)))\n",
    "\n",
    "\n"
   ]
  },
  {
   "cell_type": "markdown",
   "id": "2a6db66a-50bb-423f-a48e-9209d46960b1",
   "metadata": {
    "id": "2a6db66a-50bb-423f-a48e-9209d46960b1",
    "tags": []
   },
   "source": [
    "## **II. Process the Data**"
   ]
  },
  {
   "cell_type": "code",
   "execution_count": 5,
   "id": "070e0e8d-8168-4c8f-ac39-596dea8efd1e",
   "metadata": {
    "colab": {
     "base_uri": "https://localhost:8080/",
     "height": 774
    },
    "collapsed": true,
    "id": "070e0e8d-8168-4c8f-ac39-596dea8efd1e",
    "jupyter": {
     "outputs_hidden": true
    },
    "outputId": "f4907df8-8ef9-4a50-fd90-747a9eb59be8",
    "tags": []
   },
   "outputs": [
    {
     "name": "stdout",
     "output_type": "stream",
     "text": [
      "Number of missing values: Email date (UTC)          0\n",
      "Sender domain             6\n",
      "Delivery action           0\n",
      "Threats                   0\n",
      "Phish confidence level    0\n",
      "Recipient tags            0\n",
      "dtype: int64\n",
      "shape of ds: (89904, 6)\n",
      "shape of ds_dropped_na: (89898, 6)\n"
     ]
    },
    {
     "data": {
      "image/png": "[encoded data removed]",
      "text/plain": [
       "<Figure size 2500x1000 with 3 Axes>"
      ]
     },
     "metadata": {},
     "output_type": "display_data"
    }
   ],
   "source": [
    "## In this code cell, you'd like to find out if there are any missing values in your dataset\n",
    "# do we have any missing values?\n",
    "missing = ds.isnull().sum()\n",
    "print(\"Number of missing values: {}\".format(missing))\n",
    "\n",
    "\n",
    "## Insert code to plot the no. of missing values (i.e., count) across all the features\n",
    "#msno.matrix(ds)\n",
    "msno.bar(ds)\n",
    "\n",
    "## Insert code to drop missing values for those features\n",
    "# Drop the rows where at least one element is missing.\n",
    "ds_dropped_na = ds.dropna()\n",
    "\n",
    "## Insert code to display your dataset after dropping missing values\n",
    "ds_dropped_na.head(5)\n",
    "\n",
    "ds_shape = ds.shape\n",
    "\n",
    "ds_dropped_na_shape = ds_dropped_na.shape\n",
    "\n",
    "print(\"shape of ds: {}\".format(ds_shape))\n",
    "print(\"shape of ds_dropped_na: {}\".format(ds_dropped_na_shape))\n",
    "\n"
   ]
  },
  {
   "cell_type": "code",
   "execution_count": 6,
   "id": "e56fe377-6ae2-41d3-b5e2-3501f63457b8",
   "metadata": {
    "id": "e56fe377-6ae2-41d3-b5e2-3501f63457b8"
   },
   "outputs": [],
   "source": [
    "## Insert code to check for not-a-number values in the dataset and drop any rows with such values\n",
    "# this is the same as above\n"
   ]
  },
  {
   "cell_type": "code",
   "execution_count": 23,
   "id": "093f0da2-66d5-4ef9-a55c-0fa635f10e32",
   "metadata": {
    "colab": {
     "base_uri": "https://localhost:8080/"
    },
    "id": "093f0da2-66d5-4ef9-a55c-0fa635f10e32",
    "outputId": "037ccd6c-088e-4dae-c4e7-dd177490bb18",
    "tags": []
   },
   "outputs": [
    {
     "name": "stdout",
     "output_type": "stream",
     "text": [
      "['UND A6', 'UND A2', 'UND A1', 'UND A5', 'UND A7', 'UND A3', '-']\n",
      "Unique values in 'u_list' column: 7\n"
     ]
    }
   ],
   "source": [
    "# Modify the \"Recipient tags\" feature so there are consistent values\n",
    "\n",
    "s = ds['Recipient tags']\n",
    "\n",
    "s_2 = s.str.split(pat=\"|\", expand=True)\n",
    "\n",
    "u_list = s_2[0].unique().tolist()\n",
    "print(u_list)\n",
    "\n",
    "print(\"Unique values in 'u_list' column: {}\".format(len(u_list)))\n",
    "\n",
    "\n",
    "\n",
    "# example: ds[ds['Phish confidence level'] == 'High']\n",
    "#ds[ds['Recipient tags'] == '-']\n",
    "\n",
    "## Insert code to check for all values that are in multiple categories (e.g., UND A1|UND A3| UND A6) and make them equal to the first category. For instance:\n",
    "## All rows with TWO OR MORE categories (e.g., UND A2 | UND A1 | UNDA6) should be changed to the first category (i.e., UND A2 in this example).\n",
    "## Do the same other rows. Ignore any values that are unintelligible (e.g., hyphens).\n",
    "\n",
    "\n",
    "\n",
    "#df_recip_tags_copy = df_recip_tags\n",
    "#cleaned = df_recip_tags_copy.replace('\\|\\d*', '', regex=True)\n",
    "\n",
    "#print(cleaned)\n",
    "\n",
    "#cleaned_again = cleaned.replace('\\-\\d*', '', regex=True)\n",
    "\n",
    "#print(cleaned_again)\n"
   ]
  },
  {
   "cell_type": "code",
   "execution_count": 8,
   "id": "a5f1e76e-2c3e-441f-85cb-5802640b7eee",
   "metadata": {
    "id": "a5f1e76e-2c3e-441f-85cb-5802640b7eee",
    "tags": []
   },
   "outputs": [],
   "source": [
    "# One-hot encoding to process the \"Threats\" feature using one-hot encoding\n",
    "\n",
    "data1 = pd.get_dummies(data=ds, columns = ['Threats'])\n",
    "\n",
    "## Insert code to process the \"Recipient tags\" feature using one-hot encoding\n"
   ]
  },
  {
   "cell_type": "markdown",
   "id": "db7011b4-95af-41db-b46d-1ae4437675fa",
   "metadata": {
    "id": "db7011b4-95af-41db-b46d-1ae4437675fa"
   },
   "source": [
    "## **III. Derive Insights from the Data**"
   ]
  },
  {
   "cell_type": "code",
   "execution_count": 9,
   "id": "111f7ff7-1c97-4d57-ac5d-b06b21a088e5",
   "metadata": {
    "colab": {
     "base_uri": "https://localhost:8080/",
     "height": 272
    },
    "collapsed": true,
    "id": "111f7ff7-1c97-4d57-ac5d-b06b21a088e5",
    "jupyter": {
     "outputs_hidden": true
    },
    "outputId": "edcac6dd-f0e0-4524-a231-037f9e0e446c",
    "tags": []
   },
   "outputs": [
    {
     "data": {
      "text/html": [
       "<div>\n",
       "<style scoped>\n",
       "    .dataframe tbody tr th:only-of-type {\n",
       "        vertical-align: middle;\n",
       "    }\n",
       "\n",
       "    .dataframe tbody tr th {\n",
       "        vertical-align: top;\n",
       "    }\n",
       "\n",
       "    .dataframe thead th {\n",
       "        text-align: right;\n",
       "    }\n",
       "</style>\n",
       "<table border=\"1\" class=\"dataframe\">\n",
       "  <thead>\n",
       "    <tr style=\"text-align: right;\">\n",
       "      <th></th>\n",
       "      <th>count</th>\n",
       "    </tr>\n",
       "    <tr>\n",
       "      <th>Sender domain</th>\n",
       "      <th></th>\n",
       "    </tr>\n",
       "  </thead>\n",
       "  <tbody>\n",
       "    <tr>\n",
       "      <th>micrsoftalerts.com</th>\n",
       "      <td>13447</td>\n",
       "    </tr>\n",
       "    <tr>\n",
       "      <th>und.edu</th>\n",
       "      <td>7665</td>\n",
       "    </tr>\n",
       "    <tr>\n",
       "      <th>ndus.edu</th>\n",
       "      <td>6773</td>\n",
       "    </tr>\n",
       "    <tr>\n",
       "      <th>apple-notification-system.com</th>\n",
       "      <td>6739</td>\n",
       "    </tr>\n",
       "    <tr>\n",
       "      <th>rigginglabacademy.com</th>\n",
       "      <td>3751</td>\n",
       "    </tr>\n",
       "  </tbody>\n",
       "</table>\n",
       "</div><br><label><b>dtype:</b> int64</label>"
      ],
      "text/plain": [
       "Sender domain\n",
       "micrsoftalerts.com               13447\n",
       "und.edu                           7665\n",
       "ndus.edu                          6773\n",
       "apple-notification-system.com     6739\n",
       "rigginglabacademy.com             3751\n",
       "Name: count, dtype: int64"
      ]
     },
     "execution_count": 9,
     "metadata": {},
     "output_type": "execute_result"
    }
   ],
   "source": [
    "## Insert code to calculate the top 5 domains that are generating malicious emails\n",
    "ds['Sender domain'].value_counts().head(5)\n"
   ]
  },
  {
   "cell_type": "code",
   "execution_count": 10,
   "id": "c59ca8f6-0bc5-4088-a9aa-bccf2be665a6",
   "metadata": {
    "colab": {
     "base_uri": "https://localhost:8080/"
    },
    "id": "c59ca8f6-0bc5-4088-a9aa-bccf2be665a6",
    "outputId": "fd322840-502f-4a28-8e53-09d964c8384f"
   },
   "outputs": [
    {
     "name": "stdout",
     "output_type": "stream",
     "text": [
      "Number of Phish_confidence High values: 14611\n",
      "Number of Unique recipient values: 18\n"
     ]
    }
   ],
   "source": [
    "# Filtering the dataset only for 'high' phish confidence levels\n",
    "# get high confidence level count\n",
    "ds_high_confidence = ds[ds['Phish confidence level'] == 'High']\n",
    "\n",
    "## Insert code to calculate the no. of unique values for the \"Sender domain\" feature with 'high' phish confidence levels\n",
    "ds['Sender domain'].unique()\n",
    "\n",
    "print('Number of Phish_confidence High values: {}'.format(len(ds_high_confidence)))\n",
    "print('Number of Unique recipient values: {}'.format(len(recip_values)))\n"
   ]
  },
  {
   "cell_type": "code",
   "execution_count": 11,
   "id": "zeqR9HJqhJn4",
   "metadata": {
    "colab": {
     "base_uri": "https://localhost:8080/"
    },
    "id": "zeqR9HJqhJn4",
    "outputId": "f4156262-f5bd-40bd-be55-c4019c21eb3e"
   },
   "outputs": [
    {
     "name": "stdout",
     "output_type": "stream",
     "text": [
      "High confidence count: 14611\n",
      "total domains count: 7004\n",
      "Ratio of high phishing confidence level to total domains: 0.479364862090206\n"
     ]
    }
   ],
   "source": [
    "# get ratio of high fishing confidence level and total domains\n",
    "\n",
    "# this is a repeat from above.\n",
    "# ds_high_confidence = ds[ds['Phish confidence level'] == 'High']\n",
    "\n",
    "# total number of domains (repeated from way up top)\n",
    "sender_dom_values = ds['Sender domain'].unique().tolist()\n",
    "\n",
    "ratio_1 = len(ds_high_confidence) / len(sender_dom_values)\n",
    "ratio_2 = len(sender_dom_values) / len(ds_high_confidence)\n",
    "\n",
    "print(\"High confidence count: {}\".format(len(ds_high_confidence)))\n",
    "\n",
    "print(\"total domains count: {}\".format(len(sender_dom_values)))\n",
    "\n",
    "print(\"Ratio of high phishing confidence level to total domains: {}\".format(ratio_2))\n",
    "\n",
    "\n"
   ]
  },
  {
   "cell_type": "code",
   "execution_count": 12,
   "id": "Al9Ju9x1Zdb-",
   "metadata": {
    "colab": {
     "base_uri": "https://localhost:8080/"
    },
    "id": "Al9Ju9x1Zdb-",
    "outputId": "18c9dc3b-0f19-484e-d3c6-8458f4809a37"
   },
   "outputs": [
    {
     "data": {
      "text/plain": [
       "array(['UND A6', 'UND A2|UND A1|UND A6', 'UND A1', 'UND A5',\n",
       "       'UND A1|UND A3|UND A6', 'UND A2|UND A5|UND A1', 'UND A2',\n",
       "       'UND A2|UND A5', 'UND A2|UND A6', 'UND A1|UND A6', 'UND A5|UND A1',\n",
       "       'UND A7', 'UND A3|UND A6', 'UND A2|UND A1', 'UND A1|UND A3',\n",
       "       'UND A3', 'UND A1|UND A7', '-'], dtype=object)"
      ]
     },
     "execution_count": 12,
     "metadata": {},
     "output_type": "execute_result"
    }
   ],
   "source": [
    "# need unique recipient tag values\n",
    "ds_unique_recipient_tags = ds['Recipient tags'].unique()\n",
    "\n",
    "ds_unique_recipient_tags\n"
   ]
  },
  {
   "cell_type": "code",
   "execution_count": 13,
   "id": "a19fdf78-7866-48e7-afcc-b353774c6493",
   "metadata": {
    "id": "a19fdf78-7866-48e7-afcc-b353774c6493",
    "tags": []
   },
   "outputs": [],
   "source": [
    "## Insert code to display your modified dataset\n",
    "\n"
   ]
  },
  {
   "cell_type": "markdown",
   "id": "06769fd9-b068-46e7-94f4-cc59247674a3",
   "metadata": {
    "id": "06769fd9-b068-46e7-94f4-cc59247674a3"
   },
   "source": [
    "## **Credits**"
   ]
  },
  {
   "cell_type": "markdown",
   "id": "a8d834d5-8fc2-4a18-8d46-cadaec71ea29",
   "metadata": {
    "id": "a8d834d5-8fc2-4a18-8d46-cadaec71ea29",
    "jp-MarkdownHeadingCollapsed": true,
    "tags": []
   },
   "source": [
    "This dataset is provided by University of North Dakota's (UND) Information Technology (IT) department for research purposes. Do not distribute or publish this without the instructor's permission.\n",
    "\n",
    "This assignment is partially derived from data mining and pre-processing techniques by Svitlana Kramar (IBM)."
   ]
  }
 ],
 "metadata": {
  "colab": {
   "provenance": []
  },
  "kernelspec": {
   "display_name": "Python 3 (ipykernel)",
   "language": "python",
   "name": "python3"
  },
  "language_info": {
   "codemirror_mode": {
    "name": "ipython",
    "version": 3
   },
   "file_extension": ".py",
   "mimetype": "text/x-python",
   "name": "python",
   "nbconvert_exporter": "python",
   "pygments_lexer": "ipython3",
   "version": "3.9.6"
  }
 },
 "nbformat": 4,
 "nbformat_minor": 5
}
